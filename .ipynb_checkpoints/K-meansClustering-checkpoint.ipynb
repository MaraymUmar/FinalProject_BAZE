{
 "cells": [
  {
   "cell_type": "code",
   "execution_count": 1,
   "id": "521fe984-9e6a-4d5f-be8f-48f7f8cf3ffe",
   "metadata": {},
   "outputs": [],
   "source": [
    "#For general use\n",
    "import os\n",
    "import numpy as np\n",
    "import pandas as pd\n",
    "import seaborn as sns\n",
    "from matplotlib import pyplot as plt\n",
    "from sklearn.preprocessing import LabelEncoder\n",
    "#For Clustering\n",
    "from sklearn.cluster import KMeans\n",
    "from sklearn.preprocessing import MinMaxScaler\n",
    "from sklearn.metrics import silhouette_score\n",
    "#3-D Visualization\n",
    "import plotly as py\n",
    "import plotly.graph_objs as go"
   ]
  },
  {
   "cell_type": "code",
   "execution_count": 2,
   "id": "7d091846-23ee-4d9e-9278-7281020d96f6",
   "metadata": {},
   "outputs": [
    {
     "data": {
      "text/html": [
       "<div>\n",
       "<style scoped>\n",
       "    .dataframe tbody tr th:only-of-type {\n",
       "        vertical-align: middle;\n",
       "    }\n",
       "\n",
       "    .dataframe tbody tr th {\n",
       "        vertical-align: top;\n",
       "    }\n",
       "\n",
       "    .dataframe thead th {\n",
       "        text-align: right;\n",
       "    }\n",
       "</style>\n",
       "<table border=\"1\" class=\"dataframe\">\n",
       "  <thead>\n",
       "    <tr style=\"text-align: right;\">\n",
       "      <th></th>\n",
       "      <th>Food_Items</th>\n",
       "      <th>Sodium_Content</th>\n",
       "      <th>Glycemic_Index</th>\n",
       "      <th>Contains_Nuts</th>\n",
       "      <th>Contains_Glutten</th>\n",
       "      <th>Contains_Diary</th>\n",
       "      <th>Veg_Nonveg</th>\n",
       "      <th>Calories</th>\n",
       "      <th>Fat</th>\n",
       "      <th>Protein</th>\n",
       "      <th>Iron</th>\n",
       "      <th>Calcium</th>\n",
       "      <th>Sodium</th>\n",
       "      <th>Potassium</th>\n",
       "      <th>Fibre</th>\n",
       "      <th>Magnesium</th>\n",
       "      <th>Zinc</th>\n",
       "      <th>Carbohydrates</th>\n",
       "    </tr>\n",
       "  </thead>\n",
       "  <tbody>\n",
       "    <tr>\n",
       "      <th>0</th>\n",
       "      <td>Avocado</td>\n",
       "      <td>Low</td>\n",
       "      <td>Low</td>\n",
       "      <td>No</td>\n",
       "      <td>No</td>\n",
       "      <td>No</td>\n",
       "      <td>Veg</td>\n",
       "      <td>160</td>\n",
       "      <td>15.0</td>\n",
       "      <td>2.0</td>\n",
       "      <td>0.0006</td>\n",
       "      <td>0.012</td>\n",
       "      <td>0.007</td>\n",
       "      <td>0.485</td>\n",
       "      <td>6.7</td>\n",
       "      <td>0.029</td>\n",
       "      <td>0.60000</td>\n",
       "      <td>8.5</td>\n",
       "    </tr>\n",
       "    <tr>\n",
       "      <th>1</th>\n",
       "      <td>Apples</td>\n",
       "      <td>Low</td>\n",
       "      <td>Low</td>\n",
       "      <td>No</td>\n",
       "      <td>No</td>\n",
       "      <td>No</td>\n",
       "      <td>Non-veg</td>\n",
       "      <td>52</td>\n",
       "      <td>0.2</td>\n",
       "      <td>0.3</td>\n",
       "      <td>0.0001</td>\n",
       "      <td>0.006</td>\n",
       "      <td>0.001</td>\n",
       "      <td>0.107</td>\n",
       "      <td>24.0</td>\n",
       "      <td>0.005</td>\n",
       "      <td>0.00004</td>\n",
       "      <td>13.8</td>\n",
       "    </tr>\n",
       "    <tr>\n",
       "      <th>2</th>\n",
       "      <td>Carrot</td>\n",
       "      <td>Low</td>\n",
       "      <td>Low</td>\n",
       "      <td>No</td>\n",
       "      <td>No</td>\n",
       "      <td>No</td>\n",
       "      <td>Veg</td>\n",
       "      <td>41</td>\n",
       "      <td>0.2</td>\n",
       "      <td>0.9</td>\n",
       "      <td>0.0003</td>\n",
       "      <td>0.033</td>\n",
       "      <td>0.069</td>\n",
       "      <td>0.320</td>\n",
       "      <td>2.8</td>\n",
       "      <td>0.012</td>\n",
       "      <td>0.00020</td>\n",
       "      <td>9.6</td>\n",
       "    </tr>\n",
       "    <tr>\n",
       "      <th>3</th>\n",
       "      <td>Beans</td>\n",
       "      <td>Low</td>\n",
       "      <td>Low</td>\n",
       "      <td>No</td>\n",
       "      <td>No</td>\n",
       "      <td>No</td>\n",
       "      <td>Non-veg</td>\n",
       "      <td>31</td>\n",
       "      <td>0.1</td>\n",
       "      <td>1.8</td>\n",
       "      <td>0.0010</td>\n",
       "      <td>0.037</td>\n",
       "      <td>0.006</td>\n",
       "      <td>0.209</td>\n",
       "      <td>2.7</td>\n",
       "      <td>0.025</td>\n",
       "      <td>0.00020</td>\n",
       "      <td>7.0</td>\n",
       "    </tr>\n",
       "    <tr>\n",
       "      <th>4</th>\n",
       "      <td>Spinash</td>\n",
       "      <td>Low</td>\n",
       "      <td>Low</td>\n",
       "      <td>No</td>\n",
       "      <td>No</td>\n",
       "      <td>No</td>\n",
       "      <td>Veg</td>\n",
       "      <td>23</td>\n",
       "      <td>0.4</td>\n",
       "      <td>2.9</td>\n",
       "      <td>0.0027</td>\n",
       "      <td>0.099</td>\n",
       "      <td>0.079</td>\n",
       "      <td>0.558</td>\n",
       "      <td>2.2</td>\n",
       "      <td>0.079</td>\n",
       "      <td>0.00050</td>\n",
       "      <td>3.6</td>\n",
       "    </tr>\n",
       "  </tbody>\n",
       "</table>\n",
       "</div>"
      ],
      "text/plain": [
       "  Food_Items Sodium_Content Glycemic_Index Contains_Nuts Contains_Glutten  \\\n",
       "0    Avocado            Low            Low            No               No   \n",
       "1    Apples             Low            Low            No               No   \n",
       "2     Carrot            Low            Low            No               No   \n",
       "3      Beans            Low            Low            No               No   \n",
       "4    Spinash            Low            Low            No               No   \n",
       "\n",
       "  Contains_Diary Veg_Nonveg  Calories   Fat  Protein    Iron  Calcium  Sodium  \\\n",
       "0             No        Veg       160  15.0      2.0  0.0006    0.012   0.007   \n",
       "1             No    Non-veg        52   0.2      0.3  0.0001    0.006   0.001   \n",
       "2             No        Veg        41   0.2      0.9  0.0003    0.033   0.069   \n",
       "3             No    Non-veg        31   0.1      1.8  0.0010    0.037   0.006   \n",
       "4             No        Veg        23   0.4      2.9  0.0027    0.099   0.079   \n",
       "\n",
       "   Potassium  Fibre  Magnesium     Zinc  Carbohydrates  \n",
       "0      0.485    6.7      0.029  0.60000            8.5  \n",
       "1      0.107   24.0      0.005  0.00004           13.8  \n",
       "2      0.320    2.8      0.012  0.00020            9.6  \n",
       "3      0.209    2.7      0.025  0.00020            7.0  \n",
       "4      0.558    2.2      0.079  0.00050            3.6  "
      ]
     },
     "execution_count": 2,
     "metadata": {},
     "output_type": "execute_result"
    }
   ],
   "source": [
    "df = pd.read_csv(\"dataSets.csv\")\n",
    "df.head()"
   ]
  },
  {
   "cell_type": "code",
   "execution_count": 3,
   "id": "4f1ee2d4-e950-42ac-b1d6-dad599311afb",
   "metadata": {},
   "outputs": [
    {
     "name": "stdout",
     "output_type": "stream",
     "text": [
      "<class 'pandas.core.frame.DataFrame'>\n",
      "RangeIndex: 106 entries, 0 to 105\n",
      "Data columns (total 18 columns):\n",
      " #   Column            Non-Null Count  Dtype  \n",
      "---  ------            --------------  -----  \n",
      " 0   Food_Items        106 non-null    object \n",
      " 1   Sodium_Content    106 non-null    object \n",
      " 2   Glycemic_Index    106 non-null    object \n",
      " 3   Contains_Nuts     106 non-null    object \n",
      " 4   Contains_Glutten  106 non-null    object \n",
      " 5   Contains_Diary    106 non-null    object \n",
      " 6   Veg_Nonveg        106 non-null    object \n",
      " 7   Calories          106 non-null    int64  \n",
      " 8   Fat               106 non-null    float64\n",
      " 9   Protein           106 non-null    float64\n",
      " 10  Iron              106 non-null    float64\n",
      " 11  Calcium           106 non-null    float64\n",
      " 12  Sodium            106 non-null    float64\n",
      " 13  Potassium         106 non-null    float64\n",
      " 14  Fibre             106 non-null    float64\n",
      " 15  Magnesium         106 non-null    float64\n",
      " 16  Zinc              106 non-null    float64\n",
      " 17  Carbohydrates     106 non-null    float64\n",
      "dtypes: float64(10), int64(1), object(7)\n",
      "memory usage: 15.0+ KB\n"
     ]
    }
   ],
   "source": [
    "df.info()"
   ]
  },
  {
   "cell_type": "code",
   "execution_count": 4,
   "id": "111194e5-29d5-4dee-93c2-677d943fd8f6",
   "metadata": {},
   "outputs": [
    {
     "data": {
      "text/html": [
       "<div>\n",
       "<style scoped>\n",
       "    .dataframe tbody tr th:only-of-type {\n",
       "        vertical-align: middle;\n",
       "    }\n",
       "\n",
       "    .dataframe tbody tr th {\n",
       "        vertical-align: top;\n",
       "    }\n",
       "\n",
       "    .dataframe thead th {\n",
       "        text-align: right;\n",
       "    }\n",
       "</style>\n",
       "<table border=\"1\" class=\"dataframe\">\n",
       "  <thead>\n",
       "    <tr style=\"text-align: right;\">\n",
       "      <th></th>\n",
       "      <th>Calories</th>\n",
       "      <th>Fat</th>\n",
       "      <th>Protein</th>\n",
       "      <th>Iron</th>\n",
       "      <th>Calcium</th>\n",
       "      <th>Sodium</th>\n",
       "      <th>Potassium</th>\n",
       "      <th>Fibre</th>\n",
       "      <th>Magnesium</th>\n",
       "      <th>Zinc</th>\n",
       "      <th>Carbohydrates</th>\n",
       "    </tr>\n",
       "  </thead>\n",
       "  <tbody>\n",
       "    <tr>\n",
       "      <th>count</th>\n",
       "      <td>106.000000</td>\n",
       "      <td>106.000000</td>\n",
       "      <td>106.000000</td>\n",
       "      <td>106.000000</td>\n",
       "      <td>106.00000</td>\n",
       "      <td>106.000000</td>\n",
       "      <td>106.000000</td>\n",
       "      <td>106.000000</td>\n",
       "      <td>106.000000</td>\n",
       "      <td>106.000000</td>\n",
       "      <td>106.000000</td>\n",
       "    </tr>\n",
       "    <tr>\n",
       "      <th>mean</th>\n",
       "      <td>145.245283</td>\n",
       "      <td>5.284245</td>\n",
       "      <td>4.023679</td>\n",
       "      <td>0.001833</td>\n",
       "      <td>0.04308</td>\n",
       "      <td>0.068236</td>\n",
       "      <td>0.261594</td>\n",
       "      <td>3.493396</td>\n",
       "      <td>0.038245</td>\n",
       "      <td>0.006974</td>\n",
       "      <td>22.346981</td>\n",
       "    </tr>\n",
       "    <tr>\n",
       "      <th>std</th>\n",
       "      <td>160.799716</td>\n",
       "      <td>11.626286</td>\n",
       "      <td>5.556811</td>\n",
       "      <td>0.003160</td>\n",
       "      <td>0.05649</td>\n",
       "      <td>0.150141</td>\n",
       "      <td>0.164368</td>\n",
       "      <td>5.344642</td>\n",
       "      <td>0.052521</td>\n",
       "      <td>0.058247</td>\n",
       "      <td>23.238912</td>\n",
       "    </tr>\n",
       "    <tr>\n",
       "      <th>min</th>\n",
       "      <td>1.000000</td>\n",
       "      <td>0.000000</td>\n",
       "      <td>0.000000</td>\n",
       "      <td>0.000010</td>\n",
       "      <td>0.00100</td>\n",
       "      <td>0.000000</td>\n",
       "      <td>0.002000</td>\n",
       "      <td>0.000000</td>\n",
       "      <td>0.000000</td>\n",
       "      <td>0.000000</td>\n",
       "      <td>0.000000</td>\n",
       "    </tr>\n",
       "    <tr>\n",
       "      <th>25%</th>\n",
       "      <td>37.000000</td>\n",
       "      <td>0.200000</td>\n",
       "      <td>0.920000</td>\n",
       "      <td>0.000300</td>\n",
       "      <td>0.01000</td>\n",
       "      <td>0.002000</td>\n",
       "      <td>0.140250</td>\n",
       "      <td>1.200000</td>\n",
       "      <td>0.012000</td>\n",
       "      <td>0.000200</td>\n",
       "      <td>6.850000</td>\n",
       "    </tr>\n",
       "    <tr>\n",
       "      <th>50%</th>\n",
       "      <td>65.000000</td>\n",
       "      <td>0.400000</td>\n",
       "      <td>1.800000</td>\n",
       "      <td>0.000600</td>\n",
       "      <td>0.01950</td>\n",
       "      <td>0.009000</td>\n",
       "      <td>0.232500</td>\n",
       "      <td>2.100000</td>\n",
       "      <td>0.020000</td>\n",
       "      <td>0.000400</td>\n",
       "      <td>13.050000</td>\n",
       "    </tr>\n",
       "    <tr>\n",
       "      <th>75%</th>\n",
       "      <td>221.750000</td>\n",
       "      <td>1.875000</td>\n",
       "      <td>4.750000</td>\n",
       "      <td>0.001800</td>\n",
       "      <td>0.04075</td>\n",
       "      <td>0.044250</td>\n",
       "      <td>0.339250</td>\n",
       "      <td>3.300000</td>\n",
       "      <td>0.033750</td>\n",
       "      <td>0.001000</td>\n",
       "      <td>29.475000</td>\n",
       "    </tr>\n",
       "    <tr>\n",
       "      <th>max</th>\n",
       "      <td>654.000000</td>\n",
       "      <td>65.000000</td>\n",
       "      <td>31.000000</td>\n",
       "      <td>0.022000</td>\n",
       "      <td>0.30000</td>\n",
       "      <td>0.829000</td>\n",
       "      <td>0.816000</td>\n",
       "      <td>44.000000</td>\n",
       "      <td>0.292000</td>\n",
       "      <td>0.600000</td>\n",
       "      <td>99.980000</td>\n",
       "    </tr>\n",
       "  </tbody>\n",
       "</table>\n",
       "</div>"
      ],
      "text/plain": [
       "         Calories         Fat     Protein        Iron    Calcium      Sodium  \\\n",
       "count  106.000000  106.000000  106.000000  106.000000  106.00000  106.000000   \n",
       "mean   145.245283    5.284245    4.023679    0.001833    0.04308    0.068236   \n",
       "std    160.799716   11.626286    5.556811    0.003160    0.05649    0.150141   \n",
       "min      1.000000    0.000000    0.000000    0.000010    0.00100    0.000000   \n",
       "25%     37.000000    0.200000    0.920000    0.000300    0.01000    0.002000   \n",
       "50%     65.000000    0.400000    1.800000    0.000600    0.01950    0.009000   \n",
       "75%    221.750000    1.875000    4.750000    0.001800    0.04075    0.044250   \n",
       "max    654.000000   65.000000   31.000000    0.022000    0.30000    0.829000   \n",
       "\n",
       "        Potassium       Fibre   Magnesium        Zinc  Carbohydrates  \n",
       "count  106.000000  106.000000  106.000000  106.000000     106.000000  \n",
       "mean     0.261594    3.493396    0.038245    0.006974      22.346981  \n",
       "std      0.164368    5.344642    0.052521    0.058247      23.238912  \n",
       "min      0.002000    0.000000    0.000000    0.000000       0.000000  \n",
       "25%      0.140250    1.200000    0.012000    0.000200       6.850000  \n",
       "50%      0.232500    2.100000    0.020000    0.000400      13.050000  \n",
       "75%      0.339250    3.300000    0.033750    0.001000      29.475000  \n",
       "max      0.816000   44.000000    0.292000    0.600000      99.980000  "
      ]
     },
     "execution_count": 4,
     "metadata": {},
     "output_type": "execute_result"
    }
   ],
   "source": [
    "df.describe()"
   ]
  },
  {
   "cell_type": "code",
   "execution_count": 5,
   "id": "39a4c9f4-037a-4b41-9d95-15cde47712c2",
   "metadata": {},
   "outputs": [
    {
     "data": {
      "text/plain": [
       "(106, 18)"
      ]
     },
     "execution_count": 5,
     "metadata": {},
     "output_type": "execute_result"
    }
   ],
   "source": [
    "df.shape"
   ]
  },
  {
   "cell_type": "code",
   "execution_count": 6,
   "id": "c75d93d5-4827-4286-8dfa-266f18eed036",
   "metadata": {},
   "outputs": [],
   "source": [
    "series = df['Calories']\n",
    "df_single_column = series.to_frame()"
   ]
  },
  {
   "cell_type": "code",
   "execution_count": 7,
   "id": "3a3f666c-5f30-41b1-b8c2-e806e28eabf7",
   "metadata": {},
   "outputs": [
    {
     "data": {
      "text/html": [
       "<div>\n",
       "<style scoped>\n",
       "    .dataframe tbody tr th:only-of-type {\n",
       "        vertical-align: middle;\n",
       "    }\n",
       "\n",
       "    .dataframe tbody tr th {\n",
       "        vertical-align: top;\n",
       "    }\n",
       "\n",
       "    .dataframe thead th {\n",
       "        text-align: right;\n",
       "    }\n",
       "</style>\n",
       "<table border=\"1\" class=\"dataframe\">\n",
       "  <thead>\n",
       "    <tr style=\"text-align: right;\">\n",
       "      <th></th>\n",
       "      <th>Food_Items</th>\n",
       "      <th>Sodium_Content</th>\n",
       "      <th>Glycemic_Index</th>\n",
       "      <th>Contains_Nuts</th>\n",
       "      <th>Contains_Glutten</th>\n",
       "      <th>Contains_Diary</th>\n",
       "      <th>Veg_Nonveg</th>\n",
       "      <th>Calories</th>\n",
       "      <th>Fat</th>\n",
       "      <th>Protein</th>\n",
       "      <th>Iron</th>\n",
       "      <th>Calcium</th>\n",
       "      <th>Sodium</th>\n",
       "      <th>Potassium</th>\n",
       "      <th>Fibre</th>\n",
       "      <th>Magnesium</th>\n",
       "      <th>Zinc</th>\n",
       "      <th>Carbohydrates</th>\n",
       "    </tr>\n",
       "  </thead>\n",
       "  <tbody>\n",
       "    <tr>\n",
       "      <th>0</th>\n",
       "      <td>Avocado</td>\n",
       "      <td>Low</td>\n",
       "      <td>Low</td>\n",
       "      <td>No</td>\n",
       "      <td>No</td>\n",
       "      <td>No</td>\n",
       "      <td>Veg</td>\n",
       "      <td>0.243492</td>\n",
       "      <td>15.0</td>\n",
       "      <td>2.0</td>\n",
       "      <td>0.0006</td>\n",
       "      <td>0.012</td>\n",
       "      <td>0.007</td>\n",
       "      <td>0.485</td>\n",
       "      <td>6.7</td>\n",
       "      <td>0.029</td>\n",
       "      <td>0.60000</td>\n",
       "      <td>8.5</td>\n",
       "    </tr>\n",
       "    <tr>\n",
       "      <th>1</th>\n",
       "      <td>Apples</td>\n",
       "      <td>Low</td>\n",
       "      <td>Low</td>\n",
       "      <td>No</td>\n",
       "      <td>No</td>\n",
       "      <td>No</td>\n",
       "      <td>Non-veg</td>\n",
       "      <td>0.078101</td>\n",
       "      <td>0.2</td>\n",
       "      <td>0.3</td>\n",
       "      <td>0.0001</td>\n",
       "      <td>0.006</td>\n",
       "      <td>0.001</td>\n",
       "      <td>0.107</td>\n",
       "      <td>24.0</td>\n",
       "      <td>0.005</td>\n",
       "      <td>0.00004</td>\n",
       "      <td>13.8</td>\n",
       "    </tr>\n",
       "    <tr>\n",
       "      <th>2</th>\n",
       "      <td>Carrot</td>\n",
       "      <td>Low</td>\n",
       "      <td>Low</td>\n",
       "      <td>No</td>\n",
       "      <td>No</td>\n",
       "      <td>No</td>\n",
       "      <td>Veg</td>\n",
       "      <td>0.061256</td>\n",
       "      <td>0.2</td>\n",
       "      <td>0.9</td>\n",
       "      <td>0.0003</td>\n",
       "      <td>0.033</td>\n",
       "      <td>0.069</td>\n",
       "      <td>0.320</td>\n",
       "      <td>2.8</td>\n",
       "      <td>0.012</td>\n",
       "      <td>0.00020</td>\n",
       "      <td>9.6</td>\n",
       "    </tr>\n",
       "    <tr>\n",
       "      <th>3</th>\n",
       "      <td>Beans</td>\n",
       "      <td>Low</td>\n",
       "      <td>Low</td>\n",
       "      <td>No</td>\n",
       "      <td>No</td>\n",
       "      <td>No</td>\n",
       "      <td>Non-veg</td>\n",
       "      <td>0.045942</td>\n",
       "      <td>0.1</td>\n",
       "      <td>1.8</td>\n",
       "      <td>0.0010</td>\n",
       "      <td>0.037</td>\n",
       "      <td>0.006</td>\n",
       "      <td>0.209</td>\n",
       "      <td>2.7</td>\n",
       "      <td>0.025</td>\n",
       "      <td>0.00020</td>\n",
       "      <td>7.0</td>\n",
       "    </tr>\n",
       "    <tr>\n",
       "      <th>4</th>\n",
       "      <td>Spinash</td>\n",
       "      <td>Low</td>\n",
       "      <td>Low</td>\n",
       "      <td>No</td>\n",
       "      <td>No</td>\n",
       "      <td>No</td>\n",
       "      <td>Veg</td>\n",
       "      <td>0.033691</td>\n",
       "      <td>0.4</td>\n",
       "      <td>2.9</td>\n",
       "      <td>0.0027</td>\n",
       "      <td>0.099</td>\n",
       "      <td>0.079</td>\n",
       "      <td>0.558</td>\n",
       "      <td>2.2</td>\n",
       "      <td>0.079</td>\n",
       "      <td>0.00050</td>\n",
       "      <td>3.6</td>\n",
       "    </tr>\n",
       "    <tr>\n",
       "      <th>...</th>\n",
       "      <td>...</td>\n",
       "      <td>...</td>\n",
       "      <td>...</td>\n",
       "      <td>...</td>\n",
       "      <td>...</td>\n",
       "      <td>...</td>\n",
       "      <td>...</td>\n",
       "      <td>...</td>\n",
       "      <td>...</td>\n",
       "      <td>...</td>\n",
       "      <td>...</td>\n",
       "      <td>...</td>\n",
       "      <td>...</td>\n",
       "      <td>...</td>\n",
       "      <td>...</td>\n",
       "      <td>...</td>\n",
       "      <td>...</td>\n",
       "      <td>...</td>\n",
       "    </tr>\n",
       "    <tr>\n",
       "      <th>101</th>\n",
       "      <td>Croissants</td>\n",
       "      <td>High</td>\n",
       "      <td>Low</td>\n",
       "      <td>No</td>\n",
       "      <td>No</td>\n",
       "      <td>No</td>\n",
       "      <td>Non-veg</td>\n",
       "      <td>0.620214</td>\n",
       "      <td>21.0</td>\n",
       "      <td>8.0</td>\n",
       "      <td>0.0018</td>\n",
       "      <td>0.024</td>\n",
       "      <td>0.371</td>\n",
       "      <td>0.154</td>\n",
       "      <td>2.1</td>\n",
       "      <td>0.024</td>\n",
       "      <td>0.00060</td>\n",
       "      <td>45.0</td>\n",
       "    </tr>\n",
       "    <tr>\n",
       "      <th>102</th>\n",
       "      <td>Meat</td>\n",
       "      <td>Low</td>\n",
       "      <td>Low</td>\n",
       "      <td>No</td>\n",
       "      <td>No</td>\n",
       "      <td>No</td>\n",
       "      <td>Non-veg</td>\n",
       "      <td>0.381317</td>\n",
       "      <td>20.0</td>\n",
       "      <td>26.0</td>\n",
       "      <td>0.0026</td>\n",
       "      <td>0.018</td>\n",
       "      <td>0.055</td>\n",
       "      <td>0.315</td>\n",
       "      <td>0.0</td>\n",
       "      <td>0.020</td>\n",
       "      <td>0.00480</td>\n",
       "      <td>0.0</td>\n",
       "    </tr>\n",
       "    <tr>\n",
       "      <th>103</th>\n",
       "      <td>Chicken</td>\n",
       "      <td>Low</td>\n",
       "      <td>Low</td>\n",
       "      <td>No</td>\n",
       "      <td>No</td>\n",
       "      <td>No</td>\n",
       "      <td>Non-veg</td>\n",
       "      <td>0.251149</td>\n",
       "      <td>3.6</td>\n",
       "      <td>31.0</td>\n",
       "      <td>0.0009</td>\n",
       "      <td>0.011</td>\n",
       "      <td>0.074</td>\n",
       "      <td>0.256</td>\n",
       "      <td>0.0</td>\n",
       "      <td>0.029</td>\n",
       "      <td>0.00100</td>\n",
       "      <td>0.0</td>\n",
       "    </tr>\n",
       "    <tr>\n",
       "      <th>104</th>\n",
       "      <td>Fish</td>\n",
       "      <td>Low</td>\n",
       "      <td>Low</td>\n",
       "      <td>No</td>\n",
       "      <td>No</td>\n",
       "      <td>No</td>\n",
       "      <td>Non-veg</td>\n",
       "      <td>0.313936</td>\n",
       "      <td>13.0</td>\n",
       "      <td>22.0</td>\n",
       "      <td>0.0008</td>\n",
       "      <td>0.009</td>\n",
       "      <td>0.059</td>\n",
       "      <td>0.363</td>\n",
       "      <td>0.0</td>\n",
       "      <td>0.029</td>\n",
       "      <td>0.00040</td>\n",
       "      <td>0.0</td>\n",
       "    </tr>\n",
       "    <tr>\n",
       "      <th>105</th>\n",
       "      <td>Chocolates with nuts</td>\n",
       "      <td>High</td>\n",
       "      <td>High</td>\n",
       "      <td>Yes</td>\n",
       "      <td>No</td>\n",
       "      <td>No</td>\n",
       "      <td>Non-veg</td>\n",
       "      <td>0.834609</td>\n",
       "      <td>31.0</td>\n",
       "      <td>4.9</td>\n",
       "      <td>0.0119</td>\n",
       "      <td>0.073</td>\n",
       "      <td>0.024</td>\n",
       "      <td>0.559</td>\n",
       "      <td>7.0</td>\n",
       "      <td>0.146</td>\n",
       "      <td>0.00900</td>\n",
       "      <td>61.0</td>\n",
       "    </tr>\n",
       "  </tbody>\n",
       "</table>\n",
       "<p>106 rows × 18 columns</p>\n",
       "</div>"
      ],
      "text/plain": [
       "               Food_Items Sodium_Content Glycemic_Index Contains_Nuts  \\\n",
       "0                 Avocado            Low            Low            No   \n",
       "1                 Apples             Low            Low            No   \n",
       "2                  Carrot            Low            Low            No   \n",
       "3                   Beans            Low            Low            No   \n",
       "4                 Spinash            Low            Low            No   \n",
       "..                    ...            ...            ...           ...   \n",
       "101            Croissants           High            Low            No   \n",
       "102                  Meat            Low            Low            No   \n",
       "103               Chicken            Low            Low            No   \n",
       "104                  Fish            Low            Low            No   \n",
       "105  Chocolates with nuts           High           High           Yes   \n",
       "\n",
       "    Contains_Glutten Contains_Diary Veg_Nonveg  Calories   Fat  Protein  \\\n",
       "0                 No             No        Veg  0.243492  15.0      2.0   \n",
       "1                 No             No    Non-veg  0.078101   0.2      0.3   \n",
       "2                 No             No        Veg  0.061256   0.2      0.9   \n",
       "3                 No             No    Non-veg  0.045942   0.1      1.8   \n",
       "4                 No             No        Veg  0.033691   0.4      2.9   \n",
       "..               ...            ...        ...       ...   ...      ...   \n",
       "101               No             No    Non-veg  0.620214  21.0      8.0   \n",
       "102               No             No    Non-veg  0.381317  20.0     26.0   \n",
       "103               No             No    Non-veg  0.251149   3.6     31.0   \n",
       "104               No             No    Non-veg  0.313936  13.0     22.0   \n",
       "105               No             No    Non-veg  0.834609  31.0      4.9   \n",
       "\n",
       "       Iron  Calcium  Sodium  Potassium  Fibre  Magnesium     Zinc  \\\n",
       "0    0.0006    0.012   0.007      0.485    6.7      0.029  0.60000   \n",
       "1    0.0001    0.006   0.001      0.107   24.0      0.005  0.00004   \n",
       "2    0.0003    0.033   0.069      0.320    2.8      0.012  0.00020   \n",
       "3    0.0010    0.037   0.006      0.209    2.7      0.025  0.00020   \n",
       "4    0.0027    0.099   0.079      0.558    2.2      0.079  0.00050   \n",
       "..      ...      ...     ...        ...    ...        ...      ...   \n",
       "101  0.0018    0.024   0.371      0.154    2.1      0.024  0.00060   \n",
       "102  0.0026    0.018   0.055      0.315    0.0      0.020  0.00480   \n",
       "103  0.0009    0.011   0.074      0.256    0.0      0.029  0.00100   \n",
       "104  0.0008    0.009   0.059      0.363    0.0      0.029  0.00040   \n",
       "105  0.0119    0.073   0.024      0.559    7.0      0.146  0.00900   \n",
       "\n",
       "     Carbohydrates  \n",
       "0              8.5  \n",
       "1             13.8  \n",
       "2              9.6  \n",
       "3              7.0  \n",
       "4              3.6  \n",
       "..             ...  \n",
       "101           45.0  \n",
       "102            0.0  \n",
       "103            0.0  \n",
       "104            0.0  \n",
       "105           61.0  \n",
       "\n",
       "[106 rows x 18 columns]"
      ]
     },
     "execution_count": 7,
     "metadata": {},
     "output_type": "execute_result"
    }
   ],
   "source": [
    "#normalizing the calories column\n",
    "scaler = MinMaxScaler()\n",
    "scaler.fit(df[['Calories']])\n",
    "df['Calories'] = scaler.transform(df[['Calories']])\n",
    "df"
   ]
  },
  {
   "cell_type": "code",
   "execution_count": 8,
   "id": "675d608a-13e9-442a-8c8f-34b8b7f1ab94",
   "metadata": {},
   "outputs": [],
   "source": [
    "#picking the main columns\n",
    "data = df.iloc[:,[1,2,4]].values"
   ]
  },
  {
   "cell_type": "code",
   "execution_count": 9,
   "id": "eda4d27f-612e-449e-bc83-91147b5e05db",
   "metadata": {},
   "outputs": [
    {
     "data": {
      "text/plain": [
       "array([['Low', 'Low', 'No'],\n",
       "       ['Low', 'Low', 'No'],\n",
       "       ['Low', 'Low', 'No'],\n",
       "       ['Low', 'Low', 'No'],\n",
       "       ['Low', 'Low', 'No'],\n",
       "       ['Low', 'Low', 'No'],\n",
       "       ['Low', 'Low', 'No'],\n",
       "       ['Low', 'Low', 'Yes'],\n",
       "       ['Low', 'Low', 'Yes'],\n",
       "       ['Low', 'High', 'No'],\n",
       "       ['Low', 'Low', 'No'],\n",
       "       ['Low', 'Low', 'No'],\n",
       "       ['Low', 'Low', 'No'],\n",
       "       ['Low', 'Low', 'No'],\n",
       "       ['Low', 'Low', 'No'],\n",
       "       ['Low', 'Low', 'No'],\n",
       "       ['Low', 'Low', 'No'],\n",
       "       ['Low', 'Low', 'No'],\n",
       "       ['Low', 'High', 'No'],\n",
       "       ['Low', 'Low', 'No'],\n",
       "       ['Low', 'Low', 'No'],\n",
       "       ['Low', 'Low', 'No'],\n",
       "       ['Low', 'Low', 'No'],\n",
       "       ['Low', 'Low', 'No'],\n",
       "       ['Low', 'Low', 'No'],\n",
       "       ['Low', 'Low', 'No'],\n",
       "       ['High', 'High', 'Yes'],\n",
       "       ['High', 'High', 'Yes'],\n",
       "       ['Low', 'High', 'No'],\n",
       "       ['Low', 'Low', 'No'],\n",
       "       ['Low', 'Low', 'No'],\n",
       "       ['Low', 'Low', 'No'],\n",
       "       ['Low', 'High', 'No'],\n",
       "       ['Low', 'Low', 'No'],\n",
       "       ['Low', 'Low', 'No'],\n",
       "       ['Low', 'Low', 'No'],\n",
       "       ['Low', 'Low', 'No'],\n",
       "       ['High', 'High', 'Yes'],\n",
       "       ['High', 'Low', 'Yes'],\n",
       "       ['Low', 'Low', 'No'],\n",
       "       ['Low', 'Low', 'No'],\n",
       "       ['Low', 'Low', 'No'],\n",
       "       ['Low', 'Low', 'No'],\n",
       "       ['Low', 'Low', 'No'],\n",
       "       ['Low', 'Low', 'No'],\n",
       "       ['Low', 'Low', 'No'],\n",
       "       ['Low', 'Low', 'No'],\n",
       "       ['Low', 'High', 'No'],\n",
       "       ['Low', 'Low', 'No'],\n",
       "       ['High', 'High', 'No'],\n",
       "       ['Low', 'Low', 'No'],\n",
       "       ['Low', 'Low', 'No'],\n",
       "       ['Low', 'Low', 'No'],\n",
       "       ['Low', 'Low', 'No'],\n",
       "       ['Low', 'Low', 'No'],\n",
       "       ['Low', 'Low', 'No'],\n",
       "       ['Low', 'Low', 'No'],\n",
       "       ['Low', 'High', 'No'],\n",
       "       ['Low', 'Low', 'No'],\n",
       "       ['Low', 'Low', 'No'],\n",
       "       ['Low', 'Low', 'No'],\n",
       "       ['Low', 'Low', 'No'],\n",
       "       ['Low', 'Low', 'No'],\n",
       "       ['Low', 'Low', 'No'],\n",
       "       ['Low', 'Low', 'No'],\n",
       "       ['Low', 'Low', 'No'],\n",
       "       ['Low', 'Low', 'No'],\n",
       "       ['Low', 'Low', 'No'],\n",
       "       ['Low', 'Low', 'No'],\n",
       "       ['Low', 'Low', 'No'],\n",
       "       ['Low', 'Low', 'No'],\n",
       "       ['Low', 'Low', 'No'],\n",
       "       ['Low', 'Low', 'No'],\n",
       "       ['Low', 'Low', 'No'],\n",
       "       ['Low', 'Low', 'No'],\n",
       "       ['Low', 'Low', 'No'],\n",
       "       ['Low', 'Low', 'No'],\n",
       "       ['Low', 'Low', 'No'],\n",
       "       ['Low', 'Low', 'No'],\n",
       "       ['Low', 'Low', 'No'],\n",
       "       ['Low', 'Low', 'No'],\n",
       "       ['Low', 'Low', 'No'],\n",
       "       ['High', 'High', 'No'],\n",
       "       ['Low', 'Low', 'No'],\n",
       "       ['Low', 'Low', 'No'],\n",
       "       ['Low', 'Low', 'No'],\n",
       "       ['Low', 'Low', 'No'],\n",
       "       ['Low', 'High', 'No'],\n",
       "       ['Low', 'High', 'No'],\n",
       "       ['High', 'High', 'No'],\n",
       "       ['Low', 'Low', 'No'],\n",
       "       ['Low', 'Low', 'No'],\n",
       "       ['High', 'High', 'No'],\n",
       "       ['High', 'High', 'No'],\n",
       "       ['High', 'High', 'No'],\n",
       "       ['Low', 'Low', 'No'],\n",
       "       ['High', 'High', 'No'],\n",
       "       ['Low', 'High', 'No'],\n",
       "       ['High', 'High', 'No'],\n",
       "       ['High', 'Low', 'Yes'],\n",
       "       ['High', 'Low', 'No'],\n",
       "       ['High', 'Low', 'No'],\n",
       "       ['Low', 'Low', 'No'],\n",
       "       ['Low', 'Low', 'No'],\n",
       "       ['Low', 'Low', 'No'],\n",
       "       ['High', 'High', 'No']], dtype=object)"
      ]
     },
     "execution_count": 9,
     "metadata": {},
     "output_type": "execute_result"
    }
   ],
   "source": [
    "##Loading the data##\n",
    "data"
   ]
  },
  {
   "cell_type": "code",
   "execution_count": 10,
   "id": "cf06613f-00f7-45e7-8337-ee7e9a8597bd",
   "metadata": {},
   "outputs": [
    {
     "data": {
      "text/plain": [
       "array(['Low', 'High'], dtype=object)"
      ]
     },
     "execution_count": 10,
     "metadata": {},
     "output_type": "execute_result"
    }
   ],
   "source": [
    "df.Glycemic_Index.unique()"
   ]
  },
  {
   "cell_type": "code",
   "execution_count": 11,
   "id": "796cf822-3924-4e2f-822d-f1ad9619f0de",
   "metadata": {},
   "outputs": [
    {
     "data": {
      "text/html": [
       "<div>\n",
       "<style scoped>\n",
       "    .dataframe tbody tr th:only-of-type {\n",
       "        vertical-align: middle;\n",
       "    }\n",
       "\n",
       "    .dataframe tbody tr th {\n",
       "        vertical-align: top;\n",
       "    }\n",
       "\n",
       "    .dataframe thead th {\n",
       "        text-align: right;\n",
       "    }\n",
       "</style>\n",
       "<table border=\"1\" class=\"dataframe\">\n",
       "  <thead>\n",
       "    <tr style=\"text-align: right;\">\n",
       "      <th></th>\n",
       "      <th>Food_Items</th>\n",
       "      <th>Sodium_Content</th>\n",
       "      <th>Glycemic_Index</th>\n",
       "      <th>Contains_Nuts</th>\n",
       "      <th>Contains_Glutten</th>\n",
       "      <th>Contains_Diary</th>\n",
       "      <th>Veg_Nonveg</th>\n",
       "      <th>Calories</th>\n",
       "      <th>Fat</th>\n",
       "      <th>Protein</th>\n",
       "      <th>Iron</th>\n",
       "      <th>Calcium</th>\n",
       "      <th>Sodium</th>\n",
       "      <th>Potassium</th>\n",
       "      <th>Fibre</th>\n",
       "      <th>Magnesium</th>\n",
       "      <th>Zinc</th>\n",
       "      <th>Carbohydrates</th>\n",
       "    </tr>\n",
       "  </thead>\n",
       "  <tbody>\n",
       "    <tr>\n",
       "      <th>0</th>\n",
       "      <td>Avocado</td>\n",
       "      <td>Low</td>\n",
       "      <td>1</td>\n",
       "      <td>No</td>\n",
       "      <td>No</td>\n",
       "      <td>No</td>\n",
       "      <td>Veg</td>\n",
       "      <td>0.243492</td>\n",
       "      <td>15.0</td>\n",
       "      <td>2.0</td>\n",
       "      <td>0.0006</td>\n",
       "      <td>0.012</td>\n",
       "      <td>0.007</td>\n",
       "      <td>0.485</td>\n",
       "      <td>6.7</td>\n",
       "      <td>0.029</td>\n",
       "      <td>0.60000</td>\n",
       "      <td>8.5</td>\n",
       "    </tr>\n",
       "    <tr>\n",
       "      <th>1</th>\n",
       "      <td>Apples</td>\n",
       "      <td>Low</td>\n",
       "      <td>1</td>\n",
       "      <td>No</td>\n",
       "      <td>No</td>\n",
       "      <td>No</td>\n",
       "      <td>Non-veg</td>\n",
       "      <td>0.078101</td>\n",
       "      <td>0.2</td>\n",
       "      <td>0.3</td>\n",
       "      <td>0.0001</td>\n",
       "      <td>0.006</td>\n",
       "      <td>0.001</td>\n",
       "      <td>0.107</td>\n",
       "      <td>24.0</td>\n",
       "      <td>0.005</td>\n",
       "      <td>0.00004</td>\n",
       "      <td>13.8</td>\n",
       "    </tr>\n",
       "    <tr>\n",
       "      <th>2</th>\n",
       "      <td>Carrot</td>\n",
       "      <td>Low</td>\n",
       "      <td>1</td>\n",
       "      <td>No</td>\n",
       "      <td>No</td>\n",
       "      <td>No</td>\n",
       "      <td>Veg</td>\n",
       "      <td>0.061256</td>\n",
       "      <td>0.2</td>\n",
       "      <td>0.9</td>\n",
       "      <td>0.0003</td>\n",
       "      <td>0.033</td>\n",
       "      <td>0.069</td>\n",
       "      <td>0.320</td>\n",
       "      <td>2.8</td>\n",
       "      <td>0.012</td>\n",
       "      <td>0.00020</td>\n",
       "      <td>9.6</td>\n",
       "    </tr>\n",
       "    <tr>\n",
       "      <th>3</th>\n",
       "      <td>Beans</td>\n",
       "      <td>Low</td>\n",
       "      <td>1</td>\n",
       "      <td>No</td>\n",
       "      <td>No</td>\n",
       "      <td>No</td>\n",
       "      <td>Non-veg</td>\n",
       "      <td>0.045942</td>\n",
       "      <td>0.1</td>\n",
       "      <td>1.8</td>\n",
       "      <td>0.0010</td>\n",
       "      <td>0.037</td>\n",
       "      <td>0.006</td>\n",
       "      <td>0.209</td>\n",
       "      <td>2.7</td>\n",
       "      <td>0.025</td>\n",
       "      <td>0.00020</td>\n",
       "      <td>7.0</td>\n",
       "    </tr>\n",
       "    <tr>\n",
       "      <th>4</th>\n",
       "      <td>Spinash</td>\n",
       "      <td>Low</td>\n",
       "      <td>1</td>\n",
       "      <td>No</td>\n",
       "      <td>No</td>\n",
       "      <td>No</td>\n",
       "      <td>Veg</td>\n",
       "      <td>0.033691</td>\n",
       "      <td>0.4</td>\n",
       "      <td>2.9</td>\n",
       "      <td>0.0027</td>\n",
       "      <td>0.099</td>\n",
       "      <td>0.079</td>\n",
       "      <td>0.558</td>\n",
       "      <td>2.2</td>\n",
       "      <td>0.079</td>\n",
       "      <td>0.00050</td>\n",
       "      <td>3.6</td>\n",
       "    </tr>\n",
       "  </tbody>\n",
       "</table>\n",
       "</div>"
      ],
      "text/plain": [
       "  Food_Items Sodium_Content  Glycemic_Index Contains_Nuts Contains_Glutten  \\\n",
       "0    Avocado            Low               1            No               No   \n",
       "1    Apples             Low               1            No               No   \n",
       "2     Carrot            Low               1            No               No   \n",
       "3      Beans            Low               1            No               No   \n",
       "4    Spinash            Low               1            No               No   \n",
       "\n",
       "  Contains_Diary Veg_Nonveg  Calories   Fat  Protein    Iron  Calcium  Sodium  \\\n",
       "0             No        Veg  0.243492  15.0      2.0  0.0006    0.012   0.007   \n",
       "1             No    Non-veg  0.078101   0.2      0.3  0.0001    0.006   0.001   \n",
       "2             No        Veg  0.061256   0.2      0.9  0.0003    0.033   0.069   \n",
       "3             No    Non-veg  0.045942   0.1      1.8  0.0010    0.037   0.006   \n",
       "4             No        Veg  0.033691   0.4      2.9  0.0027    0.099   0.079   \n",
       "\n",
       "   Potassium  Fibre  Magnesium     Zinc  Carbohydrates  \n",
       "0      0.485    6.7      0.029  0.60000            8.5  \n",
       "1      0.107   24.0      0.005  0.00004           13.8  \n",
       "2      0.320    2.8      0.012  0.00020            9.6  \n",
       "3      0.209    2.7      0.025  0.00020            7.0  \n",
       "4      0.558    2.2      0.079  0.00050            3.6  "
      ]
     },
     "execution_count": 11,
     "metadata": {},
     "output_type": "execute_result"
    }
   ],
   "source": [
    "le = LabelEncoder()\n",
    "df[\"Glycemic_Index\"]=le.fit_transform(df[\"Glycemic_Index\"])\n",
    "df.head()"
   ]
  },
  {
   "cell_type": "code",
   "execution_count": 12,
   "id": "47be8205-b529-4aa3-b760-5198f71230c8",
   "metadata": {},
   "outputs": [
    {
     "data": {
      "text/plain": [
       "array(['Low', 'High'], dtype=object)"
      ]
     },
     "execution_count": 12,
     "metadata": {},
     "output_type": "execute_result"
    }
   ],
   "source": [
    "df.Sodium_Content.unique()"
   ]
  },
  {
   "cell_type": "code",
   "execution_count": 13,
   "id": "fbfac3ad-912a-4550-892b-abf7ec8a8682",
   "metadata": {},
   "outputs": [
    {
     "data": {
      "text/html": [
       "<div>\n",
       "<style scoped>\n",
       "    .dataframe tbody tr th:only-of-type {\n",
       "        vertical-align: middle;\n",
       "    }\n",
       "\n",
       "    .dataframe tbody tr th {\n",
       "        vertical-align: top;\n",
       "    }\n",
       "\n",
       "    .dataframe thead th {\n",
       "        text-align: right;\n",
       "    }\n",
       "</style>\n",
       "<table border=\"1\" class=\"dataframe\">\n",
       "  <thead>\n",
       "    <tr style=\"text-align: right;\">\n",
       "      <th></th>\n",
       "      <th>Food_Items</th>\n",
       "      <th>Sodium_Content</th>\n",
       "      <th>Glycemic_Index</th>\n",
       "      <th>Contains_Nuts</th>\n",
       "      <th>Contains_Glutten</th>\n",
       "      <th>Contains_Diary</th>\n",
       "      <th>Veg_Nonveg</th>\n",
       "      <th>Calories</th>\n",
       "      <th>Fat</th>\n",
       "      <th>Protein</th>\n",
       "      <th>Iron</th>\n",
       "      <th>Calcium</th>\n",
       "      <th>Sodium</th>\n",
       "      <th>Potassium</th>\n",
       "      <th>Fibre</th>\n",
       "      <th>Magnesium</th>\n",
       "      <th>Zinc</th>\n",
       "      <th>Carbohydrates</th>\n",
       "    </tr>\n",
       "  </thead>\n",
       "  <tbody>\n",
       "    <tr>\n",
       "      <th>0</th>\n",
       "      <td>Avocado</td>\n",
       "      <td>1</td>\n",
       "      <td>1</td>\n",
       "      <td>No</td>\n",
       "      <td>No</td>\n",
       "      <td>No</td>\n",
       "      <td>Veg</td>\n",
       "      <td>0.243492</td>\n",
       "      <td>15.0</td>\n",
       "      <td>2.0</td>\n",
       "      <td>0.0006</td>\n",
       "      <td>0.012</td>\n",
       "      <td>0.007</td>\n",
       "      <td>0.485</td>\n",
       "      <td>6.7</td>\n",
       "      <td>0.029</td>\n",
       "      <td>0.60000</td>\n",
       "      <td>8.5</td>\n",
       "    </tr>\n",
       "    <tr>\n",
       "      <th>1</th>\n",
       "      <td>Apples</td>\n",
       "      <td>1</td>\n",
       "      <td>1</td>\n",
       "      <td>No</td>\n",
       "      <td>No</td>\n",
       "      <td>No</td>\n",
       "      <td>Non-veg</td>\n",
       "      <td>0.078101</td>\n",
       "      <td>0.2</td>\n",
       "      <td>0.3</td>\n",
       "      <td>0.0001</td>\n",
       "      <td>0.006</td>\n",
       "      <td>0.001</td>\n",
       "      <td>0.107</td>\n",
       "      <td>24.0</td>\n",
       "      <td>0.005</td>\n",
       "      <td>0.00004</td>\n",
       "      <td>13.8</td>\n",
       "    </tr>\n",
       "    <tr>\n",
       "      <th>2</th>\n",
       "      <td>Carrot</td>\n",
       "      <td>1</td>\n",
       "      <td>1</td>\n",
       "      <td>No</td>\n",
       "      <td>No</td>\n",
       "      <td>No</td>\n",
       "      <td>Veg</td>\n",
       "      <td>0.061256</td>\n",
       "      <td>0.2</td>\n",
       "      <td>0.9</td>\n",
       "      <td>0.0003</td>\n",
       "      <td>0.033</td>\n",
       "      <td>0.069</td>\n",
       "      <td>0.320</td>\n",
       "      <td>2.8</td>\n",
       "      <td>0.012</td>\n",
       "      <td>0.00020</td>\n",
       "      <td>9.6</td>\n",
       "    </tr>\n",
       "    <tr>\n",
       "      <th>3</th>\n",
       "      <td>Beans</td>\n",
       "      <td>1</td>\n",
       "      <td>1</td>\n",
       "      <td>No</td>\n",
       "      <td>No</td>\n",
       "      <td>No</td>\n",
       "      <td>Non-veg</td>\n",
       "      <td>0.045942</td>\n",
       "      <td>0.1</td>\n",
       "      <td>1.8</td>\n",
       "      <td>0.0010</td>\n",
       "      <td>0.037</td>\n",
       "      <td>0.006</td>\n",
       "      <td>0.209</td>\n",
       "      <td>2.7</td>\n",
       "      <td>0.025</td>\n",
       "      <td>0.00020</td>\n",
       "      <td>7.0</td>\n",
       "    </tr>\n",
       "    <tr>\n",
       "      <th>4</th>\n",
       "      <td>Spinash</td>\n",
       "      <td>1</td>\n",
       "      <td>1</td>\n",
       "      <td>No</td>\n",
       "      <td>No</td>\n",
       "      <td>No</td>\n",
       "      <td>Veg</td>\n",
       "      <td>0.033691</td>\n",
       "      <td>0.4</td>\n",
       "      <td>2.9</td>\n",
       "      <td>0.0027</td>\n",
       "      <td>0.099</td>\n",
       "      <td>0.079</td>\n",
       "      <td>0.558</td>\n",
       "      <td>2.2</td>\n",
       "      <td>0.079</td>\n",
       "      <td>0.00050</td>\n",
       "      <td>3.6</td>\n",
       "    </tr>\n",
       "  </tbody>\n",
       "</table>\n",
       "</div>"
      ],
      "text/plain": [
       "  Food_Items  Sodium_Content  Glycemic_Index Contains_Nuts Contains_Glutten  \\\n",
       "0    Avocado               1               1            No               No   \n",
       "1    Apples                1               1            No               No   \n",
       "2     Carrot               1               1            No               No   \n",
       "3      Beans               1               1            No               No   \n",
       "4    Spinash               1               1            No               No   \n",
       "\n",
       "  Contains_Diary Veg_Nonveg  Calories   Fat  Protein    Iron  Calcium  Sodium  \\\n",
       "0             No        Veg  0.243492  15.0      2.0  0.0006    0.012   0.007   \n",
       "1             No    Non-veg  0.078101   0.2      0.3  0.0001    0.006   0.001   \n",
       "2             No        Veg  0.061256   0.2      0.9  0.0003    0.033   0.069   \n",
       "3             No    Non-veg  0.045942   0.1      1.8  0.0010    0.037   0.006   \n",
       "4             No        Veg  0.033691   0.4      2.9  0.0027    0.099   0.079   \n",
       "\n",
       "   Potassium  Fibre  Magnesium     Zinc  Carbohydrates  \n",
       "0      0.485    6.7      0.029  0.60000            8.5  \n",
       "1      0.107   24.0      0.005  0.00004           13.8  \n",
       "2      0.320    2.8      0.012  0.00020            9.6  \n",
       "3      0.209    2.7      0.025  0.00020            7.0  \n",
       "4      0.558    2.2      0.079  0.00050            3.6  "
      ]
     },
     "execution_count": 13,
     "metadata": {},
     "output_type": "execute_result"
    }
   ],
   "source": [
    "le = LabelEncoder()\n",
    "df[\"Sodium_Content\"]=le.fit_transform(df[\"Sodium_Content\"])\n",
    "df.head()"
   ]
  },
  {
   "cell_type": "code",
   "execution_count": 14,
   "id": "236ab0f8-8ba5-4b5f-aad3-8b8100f4c5c3",
   "metadata": {},
   "outputs": [
    {
     "data": {
      "text/plain": [
       "<seaborn.axisgrid.FacetGrid at 0x2b885b85dc0>"
      ]
     },
     "execution_count": 14,
     "metadata": {},
     "output_type": "execute_result"
    },
    {
     "data": {
      "image/png": "[encoded data removed]",
      "text/plain": [
       "<Figure size 500x500 with 1 Axes>"
      ]
     },
     "metadata": {},
     "output_type": "display_data"
    }
   ],
   "source": [
    "sns.displot(df['Sodium_Content'])"
   ]
  },
  {
   "cell_type": "code",
   "execution_count": 15,
   "id": "37b7c948-9677-41c3-8112-3a8bb8de3a85",
   "metadata": {},
   "outputs": [
    {
     "data": {
      "text/plain": [
       "<seaborn.axisgrid.FacetGrid at 0x2b885d1c3b0>"
      ]
     },
     "execution_count": 15,
     "metadata": {},
     "output_type": "execute_result"
    },
    {
     "data": {
      "image/png": "[encoded data removed]",
      "text/plain": [
       "<Figure size 500x500 with 1 Axes>"
      ]
     },
     "metadata": {},
     "output_type": "display_data"
    }
   ],
   "source": [
    "sns.displot(df['Glycemic_Index'])"
   ]
  },
  {
   "cell_type": "code",
   "execution_count": 16,
   "id": "05fd7891-ab2a-4884-8ca1-4a50596ec2c1",
   "metadata": {},
   "outputs": [
    {
     "data": {
      "text/plain": [
       "<seaborn.axisgrid.FacetGrid at 0x2b885d13dd0>"
      ]
     },
     "execution_count": 16,
     "metadata": {},
     "output_type": "execute_result"
    },
    {
     "data": {
      "image/png": "[encoded data removed]",
      "text/plain": [
       "<Figure size 500x500 with 1 Axes>"
      ]
     },
     "metadata": {},
     "output_type": "display_data"
    }
   ],
   "source": [
    "sns.displot(df['Calories'])"
   ]
  },
  {
   "cell_type": "code",
   "execution_count": 17,
   "id": "87699d9e-44f2-46de-b841-d6d7c96fc6fc",
   "metadata": {},
   "outputs": [],
   "source": [
    "#Segmentation\n",
    "df1= df[['Sodium_Content', 'Glycemic_Index', 'Calories']]"
   ]
  },
  {
   "cell_type": "code",
   "execution_count": 18,
   "id": "d959ce66-2eba-430d-a4db-108f681ea7d6",
   "metadata": {},
   "outputs": [
    {
     "name": "stderr",
     "output_type": "stream",
     "text": [
      "C:\\ProgramData\\anaconda3\\Lib\\site-packages\\sklearn\\cluster\\_kmeans.py:1446: UserWarning: KMeans is known to have a memory leak on Windows with MKL, when there are less chunks than available threads. You can avoid it by setting the environment variable OMP_NUM_THREADS=1.\n",
      "  warnings.warn(\n",
      "C:\\ProgramData\\anaconda3\\Lib\\site-packages\\sklearn\\cluster\\_kmeans.py:1446: UserWarning: KMeans is known to have a memory leak on Windows with MKL, when there are less chunks than available threads. You can avoid it by setting the environment variable OMP_NUM_THREADS=1.\n",
      "  warnings.warn(\n",
      "C:\\ProgramData\\anaconda3\\Lib\\site-packages\\sklearn\\cluster\\_kmeans.py:1446: UserWarning: KMeans is known to have a memory leak on Windows with MKL, when there are less chunks than available threads. You can avoid it by setting the environment variable OMP_NUM_THREADS=1.\n",
      "  warnings.warn(\n",
      "C:\\ProgramData\\anaconda3\\Lib\\site-packages\\sklearn\\cluster\\_kmeans.py:1446: UserWarning: KMeans is known to have a memory leak on Windows with MKL, when there are less chunks than available threads. You can avoid it by setting the environment variable OMP_NUM_THREADS=1.\n",
      "  warnings.warn(\n",
      "C:\\ProgramData\\anaconda3\\Lib\\site-packages\\sklearn\\cluster\\_kmeans.py:1446: UserWarning: KMeans is known to have a memory leak on Windows with MKL, when there are less chunks than available threads. You can avoid it by setting the environment variable OMP_NUM_THREADS=1.\n",
      "  warnings.warn(\n",
      "C:\\ProgramData\\anaconda3\\Lib\\site-packages\\sklearn\\cluster\\_kmeans.py:1446: UserWarning: KMeans is known to have a memory leak on Windows with MKL, when there are less chunks than available threads. You can avoid it by setting the environment variable OMP_NUM_THREADS=1.\n",
      "  warnings.warn(\n",
      "C:\\ProgramData\\anaconda3\\Lib\\site-packages\\sklearn\\cluster\\_kmeans.py:1446: UserWarning: KMeans is known to have a memory leak on Windows with MKL, when there are less chunks than available threads. You can avoid it by setting the environment variable OMP_NUM_THREADS=1.\n",
      "  warnings.warn(\n",
      "C:\\ProgramData\\anaconda3\\Lib\\site-packages\\sklearn\\cluster\\_kmeans.py:1446: UserWarning: KMeans is known to have a memory leak on Windows with MKL, when there are less chunks than available threads. You can avoid it by setting the environment variable OMP_NUM_THREADS=1.\n",
      "  warnings.warn(\n",
      "C:\\ProgramData\\anaconda3\\Lib\\site-packages\\sklearn\\cluster\\_kmeans.py:1446: UserWarning: KMeans is known to have a memory leak on Windows with MKL, when there are less chunks than available threads. You can avoid it by setting the environment variable OMP_NUM_THREADS=1.\n",
      "  warnings.warn(\n"
     ]
    }
   ],
   "source": [
    "#by applying elbow method to find suitable number of clusters\n",
    "sum_of_sqr_dist={}\n",
    "\n",
    "for k in range (1,10):\n",
    "    km = KMeans(n_clusters=k, init= 'k-means++', max_iter=1000)\n",
    "    km = km.fit(df1)\n",
    "    sum_of_sqr_dist[k] = km.inertia_"
   ]
  },
  {
   "cell_type": "code",
   "execution_count": 19,
   "id": "7d228c13-a624-4bc3-b448-e069c9e0e03f",
   "metadata": {},
   "outputs": [
    {
     "data": {
      "image/png": "[encoded data removed]",
      "text/plain": [
       "<Figure size 640x480 with 1 Axes>"
      ]
     },
     "metadata": {},
     "output_type": "display_data"
    }
   ],
   "source": [
    "sns.pointplot(x=list(sum_of_sqr_dist.keys()), y=list(sum_of_sqr_dist.values()))\n",
    "plt.title('Elbow Method')\n",
    "plt.xlabel('Number of Clusters')\n",
    "plt.ylabel('Sum of Square Distance')\n",
    "plt.show()"
   ]
  },
  {
   "cell_type": "code",
   "execution_count": 39,
   "id": "c685b574-993c-4217-9f93-1c58d09066bc",
   "metadata": {},
   "outputs": [
    {
     "name": "stderr",
     "output_type": "stream",
     "text": [
      "C:\\ProgramData\\anaconda3\\Lib\\site-packages\\sklearn\\cluster\\_kmeans.py:1446: UserWarning:\n",
      "\n",
      "KMeans is known to have a memory leak on Windows with MKL, when there are less chunks than available threads. You can avoid it by setting the environment variable OMP_NUM_THREADS=1.\n",
      "\n"
     ]
    },
    {
     "data": {
      "text/html": [
       "<style>#sk-container-id-2 {\n",
       "  /* Definition of color scheme common for light and dark mode */\n",
       "  --sklearn-color-text: black;\n",
       "  --sklearn-color-line: gray;\n",
       "  /* Definition of color scheme for unfitted estimators */\n",
       "  --sklearn-color-unfitted-level-0: #fff5e6;\n",
       "  --sklearn-color-unfitted-level-1: #f6e4d2;\n",
       "  --sklearn-color-unfitted-level-2: #ffe0b3;\n",
       "  --sklearn-color-unfitted-level-3: chocolate;\n",
       "  /* Definition of color scheme for fitted estimators */\n",
       "  --sklearn-color-fitted-level-0: #f0f8ff;\n",
       "  --sklearn-color-fitted-level-1: #d4ebff;\n",
       "  --sklearn-color-fitted-level-2: #b3dbfd;\n",
       "  --sklearn-color-fitted-level-3: cornflowerblue;\n",
       "\n",
       "  /* Specific color for light theme */\n",
       "  --sklearn-color-text-on-default-background: var(--sg-text-color, var(--theme-code-foreground, var(--jp-content-font-color1, black)));\n",
       "  --sklearn-color-background: var(--sg-background-color, var(--theme-background, var(--jp-layout-color0, white)));\n",
       "  --sklearn-color-border-box: var(--sg-text-color, var(--theme-code-foreground, var(--jp-content-font-color1, black)));\n",
       "  --sklearn-color-icon: #696969;\n",
       "\n",
       "  @media (prefers-color-scheme: dark) {\n",
       "    /* Redefinition of color scheme for dark theme */\n",
       "    --sklearn-color-text-on-default-background: var(--sg-text-color, var(--theme-code-foreground, var(--jp-content-font-color1, white)));\n",
       "    --sklearn-color-background: var(--sg-background-color, var(--theme-background, var(--jp-layout-color0, #111)));\n",
       "    --sklearn-color-border-box: var(--sg-text-color, var(--theme-code-foreground, var(--jp-content-font-color1, white)));\n",
       "    --sklearn-color-icon: #878787;\n",
       "  }\n",
       "}\n",
       "\n",
       "#sk-container-id-2 {\n",
       "  color: var(--sklearn-color-text);\n",
       "}\n",
       "\n",
       "#sk-container-id-2 pre {\n",
       "  padding: 0;\n",
       "}\n",
       "\n",
       "#sk-container-id-2 input.sk-hidden--visually {\n",
       "  border: 0;\n",
       "  clip: rect(1px 1px 1px 1px);\n",
       "  clip: rect(1px, 1px, 1px, 1px);\n",
       "  height: 1px;\n",
       "  margin: -1px;\n",
       "  overflow: hidden;\n",
       "  padding: 0;\n",
       "  position: absolute;\n",
       "  width: 1px;\n",
       "}\n",
       "\n",
       "#sk-container-id-2 div.sk-dashed-wrapped {\n",
       "  border: 1px dashed var(--sklearn-color-line);\n",
       "  margin: 0 0.4em 0.5em 0.4em;\n",
       "  box-sizing: border-box;\n",
       "  padding-bottom: 0.4em;\n",
       "  background-color: var(--sklearn-color-background);\n",
       "}\n",
       "\n",
       "#sk-container-id-2 div.sk-container {\n",
       "  /* jupyter's `normalize.less` sets `[hidden] { display: none; }`\n",
       "     but bootstrap.min.css set `[hidden] { display: none !important; }`\n",
       "     so we also need the `!important` here to be able to override the\n",
       "     default hidden behavior on the sphinx rendered scikit-learn.org.\n",
       "     See: https://github.com/scikit-learn/scikit-learn/issues/21755 */\n",
       "  display: inline-block !important;\n",
       "  position: relative;\n",
       "}\n",
       "\n",
       "#sk-container-id-2 div.sk-text-repr-fallback {\n",
       "  display: none;\n",
       "}\n",
       "\n",
       "div.sk-parallel-item,\n",
       "div.sk-serial,\n",
       "div.sk-item {\n",
       "  /* draw centered vertical line to link estimators */\n",
       "  background-image: linear-gradient(var(--sklearn-color-text-on-default-background), var(--sklearn-color-text-on-default-background));\n",
       "  background-size: 2px 100%;\n",
       "  background-repeat: no-repeat;\n",
       "  background-position: center center;\n",
       "}\n",
       "\n",
       "/* Parallel-specific style estimator block */\n",
       "\n",
       "#sk-container-id-2 div.sk-parallel-item::after {\n",
       "  content: \"\";\n",
       "  width: 100%;\n",
       "  border-bottom: 2px solid var(--sklearn-color-text-on-default-background);\n",
       "  flex-grow: 1;\n",
       "}\n",
       "\n",
       "#sk-container-id-2 div.sk-parallel {\n",
       "  display: flex;\n",
       "  align-items: stretch;\n",
       "  justify-content: center;\n",
       "  background-color: var(--sklearn-color-background);\n",
       "  position: relative;\n",
       "}\n",
       "\n",
       "#sk-container-id-2 div.sk-parallel-item {\n",
       "  display: flex;\n",
       "  flex-direction: column;\n",
       "}\n",
       "\n",
       "#sk-container-id-2 div.sk-parallel-item:first-child::after {\n",
       "  align-self: flex-end;\n",
       "  width: 50%;\n",
       "}\n",
       "\n",
       "#sk-container-id-2 div.sk-parallel-item:last-child::after {\n",
       "  align-self: flex-start;\n",
       "  width: 50%;\n",
       "}\n",
       "\n",
       "#sk-container-id-2 div.sk-parallel-item:only-child::after {\n",
       "  width: 0;\n",
       "}\n",
       "\n",
       "/* Serial-specific style estimator block */\n",
       "\n",
       "#sk-container-id-2 div.sk-serial {\n",
       "  display: flex;\n",
       "  flex-direction: column;\n",
       "  align-items: center;\n",
       "  background-color: var(--sklearn-color-background);\n",
       "  padding-right: 1em;\n",
       "  padding-left: 1em;\n",
       "}\n",
       "\n",
       "\n",
       "/* Toggleable style: style used for estimator/Pipeline/ColumnTransformer box that is\n",
       "clickable and can be expanded/collapsed.\n",
       "- Pipeline and ColumnTransformer use this feature and define the default style\n",
       "- Estimators will overwrite some part of the style using the `sk-estimator` class\n",
       "*/\n",
       "\n",
       "/* Pipeline and ColumnTransformer style (default) */\n",
       "\n",
       "#sk-container-id-2 div.sk-toggleable {\n",
       "  /* Default theme specific background. It is overwritten whether we have a\n",
       "  specific estimator or a Pipeline/ColumnTransformer */\n",
       "  background-color: var(--sklearn-color-background);\n",
       "}\n",
       "\n",
       "/* Toggleable label */\n",
       "#sk-container-id-2 label.sk-toggleable__label {\n",
       "  cursor: pointer;\n",
       "  display: block;\n",
       "  width: 100%;\n",
       "  margin-bottom: 0;\n",
       "  padding: 0.5em;\n",
       "  box-sizing: border-box;\n",
       "  text-align: center;\n",
       "}\n",
       "\n",
       "#sk-container-id-2 label.sk-toggleable__label-arrow:before {\n",
       "  /* Arrow on the left of the label */\n",
       "  content: \"▸\";\n",
       "  float: left;\n",
       "  margin-right: 0.25em;\n",
       "  color: var(--sklearn-color-icon);\n",
       "}\n",
       "\n",
       "#sk-container-id-2 label.sk-toggleable__label-arrow:hover:before {\n",
       "  color: var(--sklearn-color-text);\n",
       "}\n",
       "\n",
       "/* Toggleable content - dropdown */\n",
       "\n",
       "#sk-container-id-2 div.sk-toggleable__content {\n",
       "  max-height: 0;\n",
       "  max-width: 0;\n",
       "  overflow: hidden;\n",
       "  text-align: left;\n",
       "  /* unfitted */\n",
       "  background-color: var(--sklearn-color-unfitted-level-0);\n",
       "}\n",
       "\n",
       "#sk-container-id-2 div.sk-toggleable__content.fitted {\n",
       "  /* fitted */\n",
       "  background-color: var(--sklearn-color-fitted-level-0);\n",
       "}\n",
       "\n",
       "#sk-container-id-2 div.sk-toggleable__content pre {\n",
       "  margin: 0.2em;\n",
       "  border-radius: 0.25em;\n",
       "  color: var(--sklearn-color-text);\n",
       "  /* unfitted */\n",
       "  background-color: var(--sklearn-color-unfitted-level-0);\n",
       "}\n",
       "\n",
       "#sk-container-id-2 div.sk-toggleable__content.fitted pre {\n",
       "  /* unfitted */\n",
       "  background-color: var(--sklearn-color-fitted-level-0);\n",
       "}\n",
       "\n",
       "#sk-container-id-2 input.sk-toggleable__control:checked~div.sk-toggleable__content {\n",
       "  /* Expand drop-down */\n",
       "  max-height: 200px;\n",
       "  max-width: 100%;\n",
       "  overflow: auto;\n",
       "}\n",
       "\n",
       "#sk-container-id-2 input.sk-toggleable__control:checked~label.sk-toggleable__label-arrow:before {\n",
       "  content: \"▾\";\n",
       "}\n",
       "\n",
       "/* Pipeline/ColumnTransformer-specific style */\n",
       "\n",
       "#sk-container-id-2 div.sk-label input.sk-toggleable__control:checked~label.sk-toggleable__label {\n",
       "  color: var(--sklearn-color-text);\n",
       "  background-color: var(--sklearn-color-unfitted-level-2);\n",
       "}\n",
       "\n",
       "#sk-container-id-2 div.sk-label.fitted input.sk-toggleable__control:checked~label.sk-toggleable__label {\n",
       "  background-color: var(--sklearn-color-fitted-level-2);\n",
       "}\n",
       "\n",
       "/* Estimator-specific style */\n",
       "\n",
       "/* Colorize estimator box */\n",
       "#sk-container-id-2 div.sk-estimator input.sk-toggleable__control:checked~label.sk-toggleable__label {\n",
       "  /* unfitted */\n",
       "  background-color: var(--sklearn-color-unfitted-level-2);\n",
       "}\n",
       "\n",
       "#sk-container-id-2 div.sk-estimator.fitted input.sk-toggleable__control:checked~label.sk-toggleable__label {\n",
       "  /* fitted */\n",
       "  background-color: var(--sklearn-color-fitted-level-2);\n",
       "}\n",
       "\n",
       "#sk-container-id-2 div.sk-label label.sk-toggleable__label,\n",
       "#sk-container-id-2 div.sk-label label {\n",
       "  /* The background is the default theme color */\n",
       "  color: var(--sklearn-color-text-on-default-background);\n",
       "}\n",
       "\n",
       "/* On hover, darken the color of the background */\n",
       "#sk-container-id-2 div.sk-label:hover label.sk-toggleable__label {\n",
       "  color: var(--sklearn-color-text);\n",
       "  background-color: var(--sklearn-color-unfitted-level-2);\n",
       "}\n",
       "\n",
       "/* Label box, darken color on hover, fitted */\n",
       "#sk-container-id-2 div.sk-label.fitted:hover label.sk-toggleable__label.fitted {\n",
       "  color: var(--sklearn-color-text);\n",
       "  background-color: var(--sklearn-color-fitted-level-2);\n",
       "}\n",
       "\n",
       "/* Estimator label */\n",
       "\n",
       "#sk-container-id-2 div.sk-label label {\n",
       "  font-family: monospace;\n",
       "  font-weight: bold;\n",
       "  display: inline-block;\n",
       "  line-height: 1.2em;\n",
       "}\n",
       "\n",
       "#sk-container-id-2 div.sk-label-container {\n",
       "  text-align: center;\n",
       "}\n",
       "\n",
       "/* Estimator-specific */\n",
       "#sk-container-id-2 div.sk-estimator {\n",
       "  font-family: monospace;\n",
       "  border: 1px dotted var(--sklearn-color-border-box);\n",
       "  border-radius: 0.25em;\n",
       "  box-sizing: border-box;\n",
       "  margin-bottom: 0.5em;\n",
       "  /* unfitted */\n",
       "  background-color: var(--sklearn-color-unfitted-level-0);\n",
       "}\n",
       "\n",
       "#sk-container-id-2 div.sk-estimator.fitted {\n",
       "  /* fitted */\n",
       "  background-color: var(--sklearn-color-fitted-level-0);\n",
       "}\n",
       "\n",
       "/* on hover */\n",
       "#sk-container-id-2 div.sk-estimator:hover {\n",
       "  /* unfitted */\n",
       "  background-color: var(--sklearn-color-unfitted-level-2);\n",
       "}\n",
       "\n",
       "#sk-container-id-2 div.sk-estimator.fitted:hover {\n",
       "  /* fitted */\n",
       "  background-color: var(--sklearn-color-fitted-level-2);\n",
       "}\n",
       "\n",
       "/* Specification for estimator info (e.g. \"i\" and \"?\") */\n",
       "\n",
       "/* Common style for \"i\" and \"?\" */\n",
       "\n",
       ".sk-estimator-doc-link,\n",
       "a:link.sk-estimator-doc-link,\n",
       "a:visited.sk-estimator-doc-link {\n",
       "  float: right;\n",
       "  font-size: smaller;\n",
       "  line-height: 1em;\n",
       "  font-family: monospace;\n",
       "  background-color: var(--sklearn-color-background);\n",
       "  border-radius: 1em;\n",
       "  height: 1em;\n",
       "  width: 1em;\n",
       "  text-decoration: none !important;\n",
       "  margin-left: 1ex;\n",
       "  /* unfitted */\n",
       "  border: var(--sklearn-color-unfitted-level-1) 1pt solid;\n",
       "  color: var(--sklearn-color-unfitted-level-1);\n",
       "}\n",
       "\n",
       ".sk-estimator-doc-link.fitted,\n",
       "a:link.sk-estimator-doc-link.fitted,\n",
       "a:visited.sk-estimator-doc-link.fitted {\n",
       "  /* fitted */\n",
       "  border: var(--sklearn-color-fitted-level-1) 1pt solid;\n",
       "  color: var(--sklearn-color-fitted-level-1);\n",
       "}\n",
       "\n",
       "/* On hover */\n",
       "div.sk-estimator:hover .sk-estimator-doc-link:hover,\n",
       ".sk-estimator-doc-link:hover,\n",
       "div.sk-label-container:hover .sk-estimator-doc-link:hover,\n",
       ".sk-estimator-doc-link:hover {\n",
       "  /* unfitted */\n",
       "  background-color: var(--sklearn-color-unfitted-level-3);\n",
       "  color: var(--sklearn-color-background);\n",
       "  text-decoration: none;\n",
       "}\n",
       "\n",
       "div.sk-estimator.fitted:hover .sk-estimator-doc-link.fitted:hover,\n",
       ".sk-estimator-doc-link.fitted:hover,\n",
       "div.sk-label-container:hover .sk-estimator-doc-link.fitted:hover,\n",
       ".sk-estimator-doc-link.fitted:hover {\n",
       "  /* fitted */\n",
       "  background-color: var(--sklearn-color-fitted-level-3);\n",
       "  color: var(--sklearn-color-background);\n",
       "  text-decoration: none;\n",
       "}\n",
       "\n",
       "/* Span, style for the box shown on hovering the info icon */\n",
       ".sk-estimator-doc-link span {\n",
       "  display: none;\n",
       "  z-index: 9999;\n",
       "  position: relative;\n",
       "  font-weight: normal;\n",
       "  right: .2ex;\n",
       "  padding: .5ex;\n",
       "  margin: .5ex;\n",
       "  width: min-content;\n",
       "  min-width: 20ex;\n",
       "  max-width: 50ex;\n",
       "  color: var(--sklearn-color-text);\n",
       "  box-shadow: 2pt 2pt 4pt #999;\n",
       "  /* unfitted */\n",
       "  background: var(--sklearn-color-unfitted-level-0);\n",
       "  border: .5pt solid var(--sklearn-color-unfitted-level-3);\n",
       "}\n",
       "\n",
       ".sk-estimator-doc-link.fitted span {\n",
       "  /* fitted */\n",
       "  background: var(--sklearn-color-fitted-level-0);\n",
       "  border: var(--sklearn-color-fitted-level-3);\n",
       "}\n",
       "\n",
       ".sk-estimator-doc-link:hover span {\n",
       "  display: block;\n",
       "}\n",
       "\n",
       "/* \"?\"-specific style due to the `<a>` HTML tag */\n",
       "\n",
       "#sk-container-id-2 a.estimator_doc_link {\n",
       "  float: right;\n",
       "  font-size: 1rem;\n",
       "  line-height: 1em;\n",
       "  font-family: monospace;\n",
       "  background-color: var(--sklearn-color-background);\n",
       "  border-radius: 1rem;\n",
       "  height: 1rem;\n",
       "  width: 1rem;\n",
       "  text-decoration: none;\n",
       "  /* unfitted */\n",
       "  color: var(--sklearn-color-unfitted-level-1);\n",
       "  border: var(--sklearn-color-unfitted-level-1) 1pt solid;\n",
       "}\n",
       "\n",
       "#sk-container-id-2 a.estimator_doc_link.fitted {\n",
       "  /* fitted */\n",
       "  border: var(--sklearn-color-fitted-level-1) 1pt solid;\n",
       "  color: var(--sklearn-color-fitted-level-1);\n",
       "}\n",
       "\n",
       "/* On hover */\n",
       "#sk-container-id-2 a.estimator_doc_link:hover {\n",
       "  /* unfitted */\n",
       "  background-color: var(--sklearn-color-unfitted-level-3);\n",
       "  color: var(--sklearn-color-background);\n",
       "  text-decoration: none;\n",
       "}\n",
       "\n",
       "#sk-container-id-2 a.estimator_doc_link.fitted:hover {\n",
       "  /* fitted */\n",
       "  background-color: var(--sklearn-color-fitted-level-3);\n",
       "}\n",
       "</style><div id=\"sk-container-id-2\" class=\"sk-top-container\"><div class=\"sk-text-repr-fallback\"><pre>KMeans(max_iter=1000, n_clusters=5)</pre><b>In a Jupyter environment, please rerun this cell to show the HTML representation or trust the notebook. <br />On GitHub, the HTML representation is unable to render, please try loading this page with nbviewer.org.</b></div><div class=\"sk-container\" hidden><div class=\"sk-item\"><div class=\"sk-estimator fitted sk-toggleable\"><input class=\"sk-toggleable__control sk-hidden--visually\" id=\"sk-estimator-id-2\" type=\"checkbox\" checked><label for=\"sk-estimator-id-2\" class=\"sk-toggleable__label fitted sk-toggleable__label-arrow fitted\">&nbsp;&nbsp;KMeans<a class=\"sk-estimator-doc-link fitted\" rel=\"noreferrer\" target=\"_blank\" href=\"https://scikit-learn.org/1.4/modules/generated/sklearn.cluster.KMeans.html\">?<span>Documentation for KMeans</span></a><span class=\"sk-estimator-doc-link fitted\">i<span>Fitted</span></span></label><div class=\"sk-toggleable__content fitted\"><pre>KMeans(max_iter=1000, n_clusters=5)</pre></div> </div></div></div></div>"
      ],
      "text/plain": [
       "KMeans(max_iter=1000, n_clusters=5)"
      ]
     },
     "execution_count": 39,
     "metadata": {},
     "output_type": "execute_result"
    }
   ],
   "source": [
    "##K-means Clustering\n",
    "Model = KMeans(n_clusters=5,\n",
    "              init=\"k-means++\",\n",
    "              max_iter=1000)\n",
    "Model.fit(df1)"
   ]
  },
  {
   "cell_type": "code",
   "execution_count": 40,
   "id": "5b904254-6b28-45f0-98e0-ad136d4d4ca0",
   "metadata": {},
   "outputs": [
    {
     "name": "stdout",
     "output_type": "stream",
     "text": [
      "Labels [0 0 0 0 0 4 0 4 0 2 4 0 0 0 0 0 0 0 2 0 0 0 0 0 0 0 1 1 2 0 0 0 2 0 0 0 0\n",
      " 1 3 0 0 0 4 0 0 0 0 2 0 1 0 0 0 0 4 4 0 2 0 0 0 0 0 0 0 0 0 0 4 0 0 0 0 0\n",
      " 0 0 0 0 0 0 0 0 1 0 4 0 0 2 2 1 0 0 1 1 1 0 1 2 1 3 3 3 0 0 0 1]\n"
     ]
    }
   ],
   "source": [
    "#printing clusters\n",
    "print('Labels', Model.labels_)"
   ]
  },
  {
   "cell_type": "code",
   "execution_count": 41,
   "id": "5fe3cdba-83d1-42db-b878-ddaf07702c5e",
   "metadata": {},
   "outputs": [
    {
     "name": "stdout",
     "output_type": "stream",
     "text": [
      "Centroids [[1.00000000e+00 1.00000000e+00 9.08766704e-02]\n",
      " [0.00000000e+00 0.00000000e+00 5.72868811e-01]\n",
      " [1.00000000e+00 1.11022302e-16 3.18700017e-01]\n",
      " [0.00000000e+00 1.00000000e+00 3.20061256e-01]\n",
      " [1.00000000e+00 1.00000000e+00 7.19754977e-01]]\n"
     ]
    }
   ],
   "source": [
    "#printing centroids\n",
    "print('Centroids', Model.cluster_centers_)"
   ]
  },
  {
   "cell_type": "code",
   "execution_count": 42,
   "id": "9d4844dc-da58-40bd-9382-5277943bb8a7",
   "metadata": {},
   "outputs": [],
   "source": [
    "centroids = Model.cluster_centers_"
   ]
  },
  {
   "cell_type": "code",
   "execution_count": 43,
   "id": "afd61111-4901-40d7-b2d1-cc8b59b8aa73",
   "metadata": {},
   "outputs": [
    {
     "name": "stderr",
     "output_type": "stream",
     "text": [
      "C:\\ProgramData\\anaconda3\\Lib\\site-packages\\sklearn\\cluster\\_kmeans.py:1446: UserWarning:\n",
      "\n",
      "KMeans is known to have a memory leak on Windows with MKL, when there are less chunks than available threads. You can avoid it by setting the environment variable OMP_NUM_THREADS=1.\n",
      "\n"
     ]
    }
   ],
   "source": [
    "df1_cluster = df1.copy()\n",
    "df1_cluster['Cluster'] = Model.fit_predict(df1)"
   ]
  },
  {
   "cell_type": "code",
   "execution_count": 44,
   "id": "011edc07-1cc2-4442-b999-0e1c63ce97b3",
   "metadata": {},
   "outputs": [
    {
     "data": {
      "text/html": [
       "<div>\n",
       "<style scoped>\n",
       "    .dataframe tbody tr th:only-of-type {\n",
       "        vertical-align: middle;\n",
       "    }\n",
       "\n",
       "    .dataframe tbody tr th {\n",
       "        vertical-align: top;\n",
       "    }\n",
       "\n",
       "    .dataframe thead th {\n",
       "        text-align: right;\n",
       "    }\n",
       "</style>\n",
       "<table border=\"1\" class=\"dataframe\">\n",
       "  <thead>\n",
       "    <tr style=\"text-align: right;\">\n",
       "      <th></th>\n",
       "      <th>Sodium_Content</th>\n",
       "      <th>Glycemic_Index</th>\n",
       "      <th>Calories</th>\n",
       "      <th>Cluster</th>\n",
       "    </tr>\n",
       "  </thead>\n",
       "  <tbody>\n",
       "    <tr>\n",
       "      <th>0</th>\n",
       "      <td>1</td>\n",
       "      <td>1</td>\n",
       "      <td>0.243492</td>\n",
       "      <td>0</td>\n",
       "    </tr>\n",
       "    <tr>\n",
       "      <th>1</th>\n",
       "      <td>1</td>\n",
       "      <td>1</td>\n",
       "      <td>0.078101</td>\n",
       "      <td>0</td>\n",
       "    </tr>\n",
       "    <tr>\n",
       "      <th>2</th>\n",
       "      <td>1</td>\n",
       "      <td>1</td>\n",
       "      <td>0.061256</td>\n",
       "      <td>0</td>\n",
       "    </tr>\n",
       "    <tr>\n",
       "      <th>3</th>\n",
       "      <td>1</td>\n",
       "      <td>1</td>\n",
       "      <td>0.045942</td>\n",
       "      <td>0</td>\n",
       "    </tr>\n",
       "    <tr>\n",
       "      <th>4</th>\n",
       "      <td>1</td>\n",
       "      <td>1</td>\n",
       "      <td>0.033691</td>\n",
       "      <td>0</td>\n",
       "    </tr>\n",
       "  </tbody>\n",
       "</table>\n",
       "</div>"
      ],
      "text/plain": [
       "   Sodium_Content  Glycemic_Index  Calories  Cluster\n",
       "0               1               1  0.243492        0\n",
       "1               1               1  0.078101        0\n",
       "2               1               1  0.061256        0\n",
       "3               1               1  0.045942        0\n",
       "4               1               1  0.033691        0"
      ]
     },
     "execution_count": 44,
     "metadata": {},
     "output_type": "execute_result"
    }
   ],
   "source": [
    "df1_cluster.head()"
   ]
  },
  {
   "cell_type": "code",
   "execution_count": 45,
   "id": "fbaa292f-3cdd-43d5-9893-78603481f136",
   "metadata": {},
   "outputs": [],
   "source": [
    "#visualizing the clusters and centroids\n",
    "Colour = ['Red', 'Blue', 'Orange', 'Purple', 'Black']\n",
    "df1_cluster['Colour'] = df1_cluster['Cluster'].map(lambda p:Colour[p])"
   ]
  },
  {
   "cell_type": "code",
   "execution_count": 46,
   "id": "4479bde3-ca56-42be-a230-b04640e8454d",
   "metadata": {},
   "outputs": [
    {
     "data": {
      "text/plain": [
       "<function matplotlib.pyplot.show(close=None, block=None)>"
      ]
     },
     "execution_count": 46,
     "metadata": {},
     "output_type": "execute_result"
    },
    {
     "data": {
      "image/png": "[encoded data removed]",
      "text/plain": [
       "<Figure size 2000x1000 with 1 Axes>"
      ]
     },
     "metadata": {},
     "output_type": "display_data"
    }
   ],
   "source": [
    "plt.figure(figsize=(20, 10))\n",
    "plt.scatter(df1['Sodium_Content'],\n",
    "           df1['Calories'], df1['Glycemic_Index'],\n",
    "           c=df1_cluster['Colour'])\n",
    "plt.scatter(centroids[:, 0], centroids[:, 1], c='green', s=150)\n",
    "plt.show"
   ]
  },
  {
   "cell_type": "code",
   "execution_count": 47,
   "id": "4f2ec09c-6095-427f-aadb-d29d02880041",
   "metadata": {},
   "outputs": [],
   "source": [
    "#Evaluation using silhoette score\n",
    "labels = Model.labels_ "
   ]
  },
  {
   "cell_type": "code",
   "execution_count": 48,
   "id": "a2b7c446-92ba-406f-9ee0-dda81fbe4f6c",
   "metadata": {},
   "outputs": [
    {
     "data": {
      "text/plain": [
       "0.8287841899893328"
      ]
     },
     "execution_count": 48,
     "metadata": {},
     "output_type": "execute_result"
    }
   ],
   "source": [
    "silhouette_score(df1, labels)"
   ]
  },
  {
   "cell_type": "code",
   "execution_count": 49,
   "id": "4b844240-60d0-4777-bd67-b07944e5b660",
   "metadata": {},
   "outputs": [
    {
     "name": "stderr",
     "output_type": "stream",
     "text": [
      "C:\\ProgramData\\anaconda3\\Lib\\site-packages\\sklearn\\cluster\\_kmeans.py:1446: UserWarning:\n",
      "\n",
      "KMeans is known to have a memory leak on Windows with MKL, when there are less chunks than available threads. You can avoid it by setting the environment variable OMP_NUM_THREADS=1.\n",
      "\n",
      "C:\\ProgramData\\anaconda3\\Lib\\site-packages\\sklearn\\cluster\\_kmeans.py:1446: UserWarning:\n",
      "\n",
      "KMeans is known to have a memory leak on Windows with MKL, when there are less chunks than available threads. You can avoid it by setting the environment variable OMP_NUM_THREADS=1.\n",
      "\n",
      "C:\\ProgramData\\anaconda3\\Lib\\site-packages\\sklearn\\cluster\\_kmeans.py:1446: UserWarning:\n",
      "\n",
      "KMeans is known to have a memory leak on Windows with MKL, when there are less chunks than available threads. You can avoid it by setting the environment variable OMP_NUM_THREADS=1.\n",
      "\n",
      "C:\\ProgramData\\anaconda3\\Lib\\site-packages\\sklearn\\cluster\\_kmeans.py:1446: UserWarning:\n",
      "\n",
      "KMeans is known to have a memory leak on Windows with MKL, when there are less chunks than available threads. You can avoid it by setting the environment variable OMP_NUM_THREADS=1.\n",
      "\n",
      "C:\\ProgramData\\anaconda3\\Lib\\site-packages\\sklearn\\cluster\\_kmeans.py:1446: UserWarning:\n",
      "\n",
      "KMeans is known to have a memory leak on Windows with MKL, when there are less chunks than available threads. You can avoid it by setting the environment variable OMP_NUM_THREADS=1.\n",
      "\n",
      "C:\\ProgramData\\anaconda3\\Lib\\site-packages\\sklearn\\cluster\\_kmeans.py:1446: UserWarning:\n",
      "\n",
      "KMeans is known to have a memory leak on Windows with MKL, when there are less chunks than available threads. You can avoid it by setting the environment variable OMP_NUM_THREADS=1.\n",
      "\n"
     ]
    }
   ],
   "source": [
    "silhouette = {}\n",
    "\n",
    "for k in range(2,8):\n",
    "    km = KMeans(n_clusters=k, init='k-means++', max_iter=1000)\n",
    "    km.fit(df1)\n",
    "    silhouette[k] = silhouette_score(df1, km.labels_)"
   ]
  },
  {
   "cell_type": "code",
   "execution_count": 50,
   "id": "37d3b00b-c1d7-42c9-8ce4-3be517fa9b9c",
   "metadata": {},
   "outputs": [
    {
     "data": {
      "image/png": "[encoded data removed]",
      "text/plain": [
       "<Figure size 640x480 with 1 Axes>"
      ]
     },
     "metadata": {},
     "output_type": "display_data"
    }
   ],
   "source": [
    "sns.pointplot(x=list(silhouette.keys()), y=list(silhouette.values()))\n",
    "plt.title('Silhouette Scores for each K')\n",
    "plt.xlabel('Number of Clusters')\n",
    "plt.ylabel('Silhouette Scores')\n",
    "plt.show()"
   ]
  },
  {
   "cell_type": "code",
   "execution_count": 51,
   "id": "7c8a0034-ef08-4a48-b299-ac0df5ac69d5",
   "metadata": {},
   "outputs": [
    {
     "data": {
      "application/vnd.plotly.v1+json": {
       "config": {
        "linkText": "Export to plot.ly",
        "plotlyServerURL": "https://plot.ly",
        "showLink": false
       },
       "data": [
        {
         "marker": {
          "color": [
           0,
           0,
           0,
           0,
           0,
           4,
           0,
           4,
           0,
           3,
           4,
           0,
           0,
           0,
           0,
           0,
           0,
           0,
           3,
           0,
           0,
           0,
           0,
           0,
           0,
           0,
           1,
           1,
           3,
           0,
           0,
           0,
           3,
           0,
           0,
           0,
           0,
           1,
           2,
           0,
           0,
           0,
           4,
           0,
           0,
           0,
           0,
           3,
           0,
           1,
           0,
           0,
           0,
           0,
           4,
           4,
           0,
           3,
           0,
           0,
           0,
           0,
           0,
           0,
           0,
           0,
           0,
           0,
           4,
           0,
           0,
           0,
           0,
           0,
           0,
           0,
           0,
           0,
           0,
           0,
           0,
           0,
           1,
           0,
           4,
           0,
           0,
           3,
           3,
           1,
           0,
           0,
           1,
           1,
           1,
           0,
           1,
           3,
           1,
           2,
           2,
           2,
           0,
           0,
           0,
           1
          ],
          "line": {
           "color": [
            0,
            0,
            0,
            0,
            0,
            4,
            0,
            4,
            0,
            3,
            4,
            0,
            0,
            0,
            0,
            0,
            0,
            0,
            3,
            0,
            0,
            0,
            0,
            0,
            0,
            0,
            1,
            1,
            3,
            0,
            0,
            0,
            3,
            0,
            0,
            0,
            0,
            1,
            2,
            0,
            0,
            0,
            4,
            0,
            0,
            0,
            0,
            3,
            0,
            1,
            0,
            0,
            0,
            0,
            4,
            4,
            0,
            3,
            0,
            0,
            0,
            0,
            0,
            0,
            0,
            0,
            0,
            0,
            4,
            0,
            0,
            0,
            0,
            0,
            0,
            0,
            0,
            0,
            0,
            0,
            0,
            0,
            1,
            0,
            4,
            0,
            0,
            3,
            3,
            1,
            0,
            0,
            1,
            1,
            1,
            0,
            1,
            3,
            1,
            2,
            2,
            2,
            0,
            0,
            0,
            1
           ],
           "width": 12
          },
          "opacity": 0.8,
          "size": 3
         },
         "mode": "markers",
         "type": "scatter3d",
         "x": [
          1,
          1,
          1,
          1,
          1,
          1,
          1,
          1,
          1,
          1,
          1,
          1,
          1,
          1,
          1,
          1,
          1,
          1,
          1,
          1,
          1,
          1,
          1,
          1,
          1,
          1,
          0,
          0,
          1,
          1,
          1,
          1,
          1,
          1,
          1,
          1,
          1,
          0,
          0,
          1,
          1,
          1,
          1,
          1,
          1,
          1,
          1,
          1,
          1,
          0,
          1,
          1,
          1,
          1,
          1,
          1,
          1,
          1,
          1,
          1,
          1,
          1,
          1,
          1,
          1,
          1,
          1,
          1,
          1,
          1,
          1,
          1,
          1,
          1,
          1,
          1,
          1,
          1,
          1,
          1,
          1,
          1,
          0,
          1,
          1,
          1,
          1,
          1,
          1,
          0,
          1,
          1,
          0,
          0,
          0,
          1,
          0,
          1,
          0,
          0,
          0,
          0,
          1,
          1,
          1,
          0
         ],
         "y": [
          0.2434915773353752,
          0.07810107197549772,
          0.06125574272588056,
          0.045941807044410414,
          0.033690658499234305,
          0.5604900459418071,
          0.07503828483920369,
          0.5176110260336907,
          0.10719754977029097,
          0.3460949464012251,
          0.4946401225114855,
          0.08882082695252681,
          0.0551301684532925,
          0.026033690658499236,
          0.05972434915773354,
          0.18529862174578868,
          0.09188361408882084,
          0.07503828483920369,
          0.11638591117917306,
          0.13016845329249616,
          0.05053598774885146,
          0.036753445635528334,
          0.019908116385911178,
          0.036753445635528334,
          0.045941807044410414,
          0.17917304747320062,
          0.5375191424196019,
          0.3767228177641654,
          0.18683001531393567,
          0.10260336906584994,
          0,
          0.08575803981623278,
          0.5911179173047474,
          0.06278713629402757,
          0.036753445635528334,
          0.036753445635528334,
          0.09035222052067382,
          0.4946401225114855,
          0.02450229709035222,
          0.05206738131699847,
          0.09647779479326188,
          0.022970903522205207,
          0.9142419601837672,
          0.10413476263399694,
          0.08575803981623278,
          0.12251148545176112,
          0.09188361408882084,
          0.13016845329249616,
          0.05972434915773354,
          0.6385911179173047,
          0.10260336906584994,
          0.02909647779479326,
          0.021439509954058193,
          0.23583460949464014,
          0.8453292496171516,
          0.885145482388974,
          0.2649310872894334,
          0.46401225114854516,
          0.053598774885145486,
          0.11179173047473202,
          0.09188361408882084,
          0.09035222052067382,
          0.07044410413476264,
          0.03215926493108729,
          0.042879019908116385,
          0.04747320061255743,
          0.04900459418070444,
          0.07810107197549772,
          1.0000000000000002,
          0.02450229709035222,
          0.07963246554364473,
          0.0444104134762634,
          0.09494640122511487,
          0.07350689127105667,
          0.22664624808575803,
          0.1209800918836141,
          0.06431852986217458,
          0.1439509954058193,
          0.022970903522205207,
          0.0551301684532925,
          0.12557427258805512,
          0.06891271056661563,
          0.6906584992343032,
          0.07197549770290966,
          0.5405819295558959,
          0.021439509954058193,
          0.1470137825421133,
          0.1990811638591118,
          0.2434915773353752,
          0.545176110260337,
          0.03828483920367535,
          0.0658499234303216,
          0.6186830015313936,
          0.5758039816232772,
          0.3460949464012251,
          0.09954058192955591,
          0.8346094946401226,
          0.5911179173047474,
          0.38131699846860645,
          0.10107197549770292,
          0.5344563552833078,
          0.6202143950995406,
          0.38131699846860645,
          0.25114854517611024,
          0.31393568147013784,
          0.8346094946401226
         ],
         "z": [
          1,
          1,
          1,
          1,
          1,
          1,
          1,
          1,
          1,
          0,
          1,
          1,
          1,
          1,
          1,
          1,
          1,
          1,
          0,
          1,
          1,
          1,
          1,
          1,
          1,
          1,
          0,
          0,
          0,
          1,
          1,
          1,
          0,
          1,
          1,
          1,
          1,
          0,
          1,
          1,
          1,
          1,
          1,
          1,
          1,
          1,
          1,
          0,
          1,
          0,
          1,
          1,
          1,
          1,
          1,
          1,
          1,
          0,
          1,
          1,
          1,
          1,
          1,
          1,
          1,
          1,
          1,
          1,
          1,
          1,
          1,
          1,
          1,
          1,
          1,
          1,
          1,
          1,
          1,
          1,
          1,
          1,
          0,
          1,
          1,
          1,
          1,
          0,
          0,
          0,
          1,
          1,
          0,
          0,
          0,
          1,
          0,
          0,
          0,
          1,
          1,
          1,
          1,
          1,
          1,
          0
         ]
        }
       ],
       "layout": {
        "autosize": true,
        "scene": {
         "aspectmode": "auto",
         "aspectratio": {
          "x": 0.9999999999999999,
          "y": 1.0000000000000002,
          "z": 0.9999999999999999
         },
         "xaxis": {
          "title": {
           "text": "Sodium_Content"
          },
          "type": "linear"
         },
         "yaxis": {
          "title": {
           "text": "Calories"
          },
          "type": "linear"
         },
         "zaxis": {
          "title": {
           "text": "Glycemic_Index"
          },
          "type": "linear"
         }
        },
        "template": {
         "data": {
          "bar": [
           {
            "error_x": {
             "color": "#2a3f5f"
            },
            "error_y": {
             "color": "#2a3f5f"
            },
            "marker": {
             "line": {
              "color": "#E5ECF6",
              "width": 0.5
             },
             "pattern": {
              "fillmode": "overlay",
              "size": 10,
              "solidity": 0.2
             }
            },
            "type": "bar"
           }
          ],
          "barpolar": [
           {
            "marker": {
             "line": {
              "color": "#E5ECF6",
              "width": 0.5
             },
             "pattern": {
              "fillmode": "overlay",
              "size": 10,
              "solidity": 0.2
             }
            },
            "type": "barpolar"
           }
          ],
          "carpet": [
           {
            "aaxis": {
             "endlinecolor": "#2a3f5f",
             "gridcolor": "white",
             "linecolor": "white",
             "minorgridcolor": "white",
             "startlinecolor": "#2a3f5f"
            },
            "baxis": {
             "endlinecolor": "#2a3f5f",
             "gridcolor": "white",
             "linecolor": "white",
             "minorgridcolor": "white",
             "startlinecolor": "#2a3f5f"
            },
            "type": "carpet"
           }
          ],
          "choropleth": [
           {
            "colorbar": {
             "outlinewidth": 0,
             "ticks": ""
            },
            "type": "choropleth"
           }
          ],
          "contour": [
           {
            "colorbar": {
             "outlinewidth": 0,
             "ticks": ""
            },
            "colorscale": [
             [
              0,
              "#0d0887"
             ],
             [
              0.1111111111111111,
              "#46039f"
             ],
             [
              0.2222222222222222,
              "#7201a8"
             ],
             [
              0.3333333333333333,
              "#9c179e"
             ],
             [
              0.4444444444444444,
              "#bd3786"
             ],
             [
              0.5555555555555556,
              "#d8576b"
             ],
             [
              0.6666666666666666,
              "#ed7953"
             ],
             [
              0.7777777777777778,
              "#fb9f3a"
             ],
             [
              0.8888888888888888,
              "#fdca26"
             ],
             [
              1,
              "#f0f921"
             ]
            ],
            "type": "contour"
           }
          ],
          "contourcarpet": [
           {
            "colorbar": {
             "outlinewidth": 0,
             "ticks": ""
            },
            "type": "contourcarpet"
           }
          ],
          "heatmap": [
           {
            "colorbar": {
             "outlinewidth": 0,
             "ticks": ""
            },
            "colorscale": [
             [
              0,
              "#0d0887"
             ],
             [
              0.1111111111111111,
              "#46039f"
             ],
             [
              0.2222222222222222,
              "#7201a8"
             ],
             [
              0.3333333333333333,
              "#9c179e"
             ],
             [
              0.4444444444444444,
              "#bd3786"
             ],
             [
              0.5555555555555556,
              "#d8576b"
             ],
             [
              0.6666666666666666,
              "#ed7953"
             ],
             [
              0.7777777777777778,
              "#fb9f3a"
             ],
             [
              0.8888888888888888,
              "#fdca26"
             ],
             [
              1,
              "#f0f921"
             ]
            ],
            "type": "heatmap"
           }
          ],
          "heatmapgl": [
           {
            "colorbar": {
             "outlinewidth": 0,
             "ticks": ""
            },
            "colorscale": [
             [
              0,
              "#0d0887"
             ],
             [
              0.1111111111111111,
              "#46039f"
             ],
             [
              0.2222222222222222,
              "#7201a8"
             ],
             [
              0.3333333333333333,
              "#9c179e"
             ],
             [
              0.4444444444444444,
              "#bd3786"
             ],
             [
              0.5555555555555556,
              "#d8576b"
             ],
             [
              0.6666666666666666,
              "#ed7953"
             ],
             [
              0.7777777777777778,
              "#fb9f3a"
             ],
             [
              0.8888888888888888,
              "#fdca26"
             ],
             [
              1,
              "#f0f921"
             ]
            ],
            "type": "heatmapgl"
           }
          ],
          "histogram": [
           {
            "marker": {
             "pattern": {
              "fillmode": "overlay",
              "size": 10,
              "solidity": 0.2
             }
            },
            "type": "histogram"
           }
          ],
          "histogram2d": [
           {
            "colorbar": {
             "outlinewidth": 0,
             "ticks": ""
            },
            "colorscale": [
             [
              0,
              "#0d0887"
             ],
             [
              0.1111111111111111,
              "#46039f"
             ],
             [
              0.2222222222222222,
              "#7201a8"
             ],
             [
              0.3333333333333333,
              "#9c179e"
             ],
             [
              0.4444444444444444,
              "#bd3786"
             ],
             [
              0.5555555555555556,
              "#d8576b"
             ],
             [
              0.6666666666666666,
              "#ed7953"
             ],
             [
              0.7777777777777778,
              "#fb9f3a"
             ],
             [
              0.8888888888888888,
              "#fdca26"
             ],
             [
              1,
              "#f0f921"
             ]
            ],
            "type": "histogram2d"
           }
          ],
          "histogram2dcontour": [
           {
            "colorbar": {
             "outlinewidth": 0,
             "ticks": ""
            },
            "colorscale": [
             [
              0,
              "#0d0887"
             ],
             [
              0.1111111111111111,
              "#46039f"
             ],
             [
              0.2222222222222222,
              "#7201a8"
             ],
             [
              0.3333333333333333,
              "#9c179e"
             ],
             [
              0.4444444444444444,
              "#bd3786"
             ],
             [
              0.5555555555555556,
              "#d8576b"
             ],
             [
              0.6666666666666666,
              "#ed7953"
             ],
             [
              0.7777777777777778,
              "#fb9f3a"
             ],
             [
              0.8888888888888888,
              "#fdca26"
             ],
             [
              1,
              "#f0f921"
             ]
            ],
            "type": "histogram2dcontour"
           }
          ],
          "mesh3d": [
           {
            "colorbar": {
             "outlinewidth": 0,
             "ticks": ""
            },
            "type": "mesh3d"
           }
          ],
          "parcoords": [
           {
            "line": {
             "colorbar": {
              "outlinewidth": 0,
              "ticks": ""
             }
            },
            "type": "parcoords"
           }
          ],
          "pie": [
           {
            "automargin": true,
            "type": "pie"
           }
          ],
          "scatter": [
           {
            "fillpattern": {
             "fillmode": "overlay",
             "size": 10,
             "solidity": 0.2
            },
            "type": "scatter"
           }
          ],
          "scatter3d": [
           {
            "line": {
             "colorbar": {
              "outlinewidth": 0,
              "ticks": ""
             }
            },
            "marker": {
             "colorbar": {
              "outlinewidth": 0,
              "ticks": ""
             }
            },
            "type": "scatter3d"
           }
          ],
          "scattercarpet": [
           {
            "marker": {
             "colorbar": {
              "outlinewidth": 0,
              "ticks": ""
             }
            },
            "type": "scattercarpet"
           }
          ],
          "scattergeo": [
           {
            "marker": {
             "colorbar": {
              "outlinewidth": 0,
              "ticks": ""
             }
            },
            "type": "scattergeo"
           }
          ],
          "scattergl": [
           {
            "marker": {
             "colorbar": {
              "outlinewidth": 0,
              "ticks": ""
             }
            },
            "type": "scattergl"
           }
          ],
          "scattermapbox": [
           {
            "marker": {
             "colorbar": {
              "outlinewidth": 0,
              "ticks": ""
             }
            },
            "type": "scattermapbox"
           }
          ],
          "scatterpolar": [
           {
            "marker": {
             "colorbar": {
              "outlinewidth": 0,
              "ticks": ""
             }
            },
            "type": "scatterpolar"
           }
          ],
          "scatterpolargl": [
           {
            "marker": {
             "colorbar": {
              "outlinewidth": 0,
              "ticks": ""
             }
            },
            "type": "scatterpolargl"
           }
          ],
          "scatterternary": [
           {
            "marker": {
             "colorbar": {
              "outlinewidth": 0,
              "ticks": ""
             }
            },
            "type": "scatterternary"
           }
          ],
          "surface": [
           {
            "colorbar": {
             "outlinewidth": 0,
             "ticks": ""
            },
            "colorscale": [
             [
              0,
              "#0d0887"
             ],
             [
              0.1111111111111111,
              "#46039f"
             ],
             [
              0.2222222222222222,
              "#7201a8"
             ],
             [
              0.3333333333333333,
              "#9c179e"
             ],
             [
              0.4444444444444444,
              "#bd3786"
             ],
             [
              0.5555555555555556,
              "#d8576b"
             ],
             [
              0.6666666666666666,
              "#ed7953"
             ],
             [
              0.7777777777777778,
              "#fb9f3a"
             ],
             [
              0.8888888888888888,
              "#fdca26"
             ],
             [
              1,
              "#f0f921"
             ]
            ],
            "type": "surface"
           }
          ],
          "table": [
           {
            "cells": {
             "fill": {
              "color": "#EBF0F8"
             },
             "line": {
              "color": "white"
             }
            },
            "header": {
             "fill": {
              "color": "#C8D4E3"
             },
             "line": {
              "color": "white"
             }
            },
            "type": "table"
           }
          ]
         },
         "layout": {
          "annotationdefaults": {
           "arrowcolor": "#2a3f5f",
           "arrowhead": 0,
           "arrowwidth": 1
          },
          "autotypenumbers": "strict",
          "coloraxis": {
           "colorbar": {
            "outlinewidth": 0,
            "ticks": ""
           }
          },
          "colorscale": {
           "diverging": [
            [
             0,
             "#8e0152"
            ],
            [
             0.1,
             "#c51b7d"
            ],
            [
             0.2,
             "#de77ae"
            ],
            [
             0.3,
             "#f1b6da"
            ],
            [
             0.4,
             "#fde0ef"
            ],
            [
             0.5,
             "#f7f7f7"
            ],
            [
             0.6,
             "#e6f5d0"
            ],
            [
             0.7,
             "#b8e186"
            ],
            [
             0.8,
             "#7fbc41"
            ],
            [
             0.9,
             "#4d9221"
            ],
            [
             1,
             "#276419"
            ]
           ],
           "sequential": [
            [
             0,
             "#0d0887"
            ],
            [
             0.1111111111111111,
             "#46039f"
            ],
            [
             0.2222222222222222,
             "#7201a8"
            ],
            [
             0.3333333333333333,
             "#9c179e"
            ],
            [
             0.4444444444444444,
             "#bd3786"
            ],
            [
             0.5555555555555556,
             "#d8576b"
            ],
            [
             0.6666666666666666,
             "#ed7953"
            ],
            [
             0.7777777777777778,
             "#fb9f3a"
            ],
            [
             0.8888888888888888,
             "#fdca26"
            ],
            [
             1,
             "#f0f921"
            ]
           ],
           "sequentialminus": [
            [
             0,
             "#0d0887"
            ],
            [
             0.1111111111111111,
             "#46039f"
            ],
            [
             0.2222222222222222,
             "#7201a8"
            ],
            [
             0.3333333333333333,
             "#9c179e"
            ],
            [
             0.4444444444444444,
             "#bd3786"
            ],
            [
             0.5555555555555556,
             "#d8576b"
            ],
            [
             0.6666666666666666,
             "#ed7953"
            ],
            [
             0.7777777777777778,
             "#fb9f3a"
            ],
            [
             0.8888888888888888,
             "#fdca26"
            ],
            [
             1,
             "#f0f921"
            ]
           ]
          },
          "colorway": [
           "#636efa",
           "#EF553B",
           "#00cc96",
           "#ab63fa",
           "#FFA15A",
           "#19d3f3",
           "#FF6692",
           "#B6E880",
           "#FF97FF",
           "#FECB52"
          ],
          "font": {
           "color": "#2a3f5f"
          },
          "geo": {
           "bgcolor": "white",
           "lakecolor": "white",
           "landcolor": "#E5ECF6",
           "showlakes": true,
           "showland": true,
           "subunitcolor": "white"
          },
          "hoverlabel": {
           "align": "left"
          },
          "hovermode": "closest",
          "mapbox": {
           "style": "light"
          },
          "paper_bgcolor": "white",
          "plot_bgcolor": "#E5ECF6",
          "polar": {
           "angularaxis": {
            "gridcolor": "white",
            "linecolor": "white",
            "ticks": ""
           },
           "bgcolor": "#E5ECF6",
           "radialaxis": {
            "gridcolor": "white",
            "linecolor": "white",
            "ticks": ""
           }
          },
          "scene": {
           "xaxis": {
            "backgroundcolor": "#E5ECF6",
            "gridcolor": "white",
            "gridwidth": 2,
            "linecolor": "white",
            "showbackground": true,
            "ticks": "",
            "zerolinecolor": "white"
           },
           "yaxis": {
            "backgroundcolor": "#E5ECF6",
            "gridcolor": "white",
            "gridwidth": 2,
            "linecolor": "white",
            "showbackground": true,
            "ticks": "",
            "zerolinecolor": "white"
           },
           "zaxis": {
            "backgroundcolor": "#E5ECF6",
            "gridcolor": "white",
            "gridwidth": 2,
            "linecolor": "white",
            "showbackground": true,
            "ticks": "",
            "zerolinecolor": "white"
           }
          },
          "shapedefaults": {
           "line": {
            "color": "#2a3f5f"
           }
          },
          "ternary": {
           "aaxis": {
            "gridcolor": "white",
            "linecolor": "white",
            "ticks": ""
           },
           "baxis": {
            "gridcolor": "white",
            "linecolor": "white",
            "ticks": ""
           },
           "bgcolor": "#E5ECF6",
           "caxis": {
            "gridcolor": "white",
            "linecolor": "white",
            "ticks": ""
           }
          },
          "title": {
           "x": 0.05
          },
          "xaxis": {
           "automargin": true,
           "gridcolor": "white",
           "linecolor": "white",
           "ticks": "",
           "title": {
            "standoff": 15
           },
           "zerolinecolor": "white",
           "zerolinewidth": 2
          },
          "yaxis": {
           "automargin": true,
           "gridcolor": "white",
           "linecolor": "white",
           "ticks": "",
           "title": {
            "standoff": 15
           },
           "zerolinecolor": "white",
           "zerolinewidth": 2
          }
         }
        },
        "title": {
         "text": "Clusters"
        }
       }
      },
      "image/png": "[encoded data removed]",
      "text/html": [
       "<div>                            <div id=\"fce1f062-8a16-4cb0-8e26-a252ba2d8587\" class=\"plotly-graph-div\" style=\"height:525px; width:100%;\"></div>            <script type=\"text/javascript\">                require([\"plotly\"], function(Plotly) {                    window.PLOTLYENV=window.PLOTLYENV || {};                                    if (document.getElementById(\"fce1f062-8a16-4cb0-8e26-a252ba2d8587\")) {                    Plotly.newPlot(                        \"fce1f062-8a16-4cb0-8e26-a252ba2d8587\",                        [{\"marker\":{\"color\":[0,0,0,0,0,4,0,4,0,3,4,0,0,0,0,0,0,0,3,0,0,0,0,0,0,0,1,1,3,0,0,0,3,0,0,0,0,1,2,0,0,0,4,0,0,0,0,3,0,1,0,0,0,0,4,4,0,3,0,0,0,0,0,0,0,0,0,0,4,0,0,0,0,0,0,0,0,0,0,0,0,0,1,0,4,0,0,3,3,1,0,0,1,1,1,0,1,3,1,2,2,2,0,0,0,1],\"line\":{\"color\":[0,0,0,0,0,4,0,4,0,3,4,0,0,0,0,0,0,0,3,0,0,0,0,0,0,0,1,1,3,0,0,0,3,0,0,0,0,1,2,0,0,0,4,0,0,0,0,3,0,1,0,0,0,0,4,4,0,3,0,0,0,0,0,0,0,0,0,0,4,0,0,0,0,0,0,0,0,0,0,0,0,0,1,0,4,0,0,3,3,1,0,0,1,1,1,0,1,3,1,2,2,2,0,0,0,1],\"width\":12},\"opacity\":0.8,\"size\":3},\"mode\":\"markers\",\"x\":[1,1,1,1,1,1,1,1,1,1,1,1,1,1,1,1,1,1,1,1,1,1,1,1,1,1,0,0,1,1,1,1,1,1,1,1,1,0,0,1,1,1,1,1,1,1,1,1,1,0,1,1,1,1,1,1,1,1,1,1,1,1,1,1,1,1,1,1,1,1,1,1,1,1,1,1,1,1,1,1,1,1,0,1,1,1,1,1,1,0,1,1,0,0,0,1,0,1,0,0,0,0,1,1,1,0],\"y\":[0.2434915773353752,0.07810107197549772,0.06125574272588056,0.045941807044410414,0.033690658499234305,0.5604900459418071,0.07503828483920369,0.5176110260336907,0.10719754977029097,0.3460949464012251,0.4946401225114855,0.08882082695252681,0.0551301684532925,0.026033690658499236,0.05972434915773354,0.18529862174578868,0.09188361408882084,0.07503828483920369,0.11638591117917306,0.13016845329249616,0.05053598774885146,0.036753445635528334,0.019908116385911178,0.036753445635528334,0.045941807044410414,0.17917304747320062,0.5375191424196019,0.3767228177641654,0.18683001531393567,0.10260336906584994,0.0,0.08575803981623278,0.5911179173047474,0.06278713629402757,0.036753445635528334,0.036753445635528334,0.09035222052067382,0.4946401225114855,0.02450229709035222,0.05206738131699847,0.09647779479326188,0.022970903522205207,0.9142419601837672,0.10413476263399694,0.08575803981623278,0.12251148545176112,0.09188361408882084,0.13016845329249616,0.05972434915773354,0.6385911179173047,0.10260336906584994,0.02909647779479326,0.021439509954058193,0.23583460949464014,0.8453292496171516,0.885145482388974,0.2649310872894334,0.46401225114854516,0.053598774885145486,0.11179173047473202,0.09188361408882084,0.09035222052067382,0.07044410413476264,0.03215926493108729,0.042879019908116385,0.04747320061255743,0.04900459418070444,0.07810107197549772,1.0000000000000002,0.02450229709035222,0.07963246554364473,0.0444104134762634,0.09494640122511487,0.07350689127105667,0.22664624808575803,0.1209800918836141,0.06431852986217458,0.1439509954058193,0.022970903522205207,0.0551301684532925,0.12557427258805512,0.06891271056661563,0.6906584992343032,0.07197549770290966,0.5405819295558959,0.021439509954058193,0.1470137825421133,0.1990811638591118,0.2434915773353752,0.545176110260337,0.03828483920367535,0.0658499234303216,0.6186830015313936,0.5758039816232772,0.3460949464012251,0.09954058192955591,0.8346094946401226,0.5911179173047474,0.38131699846860645,0.10107197549770292,0.5344563552833078,0.6202143950995406,0.38131699846860645,0.25114854517611024,0.31393568147013784,0.8346094946401226],\"z\":[1,1,1,1,1,1,1,1,1,0,1,1,1,1,1,1,1,1,0,1,1,1,1,1,1,1,0,0,0,1,1,1,0,1,1,1,1,0,1,1,1,1,1,1,1,1,1,0,1,0,1,1,1,1,1,1,1,0,1,1,1,1,1,1,1,1,1,1,1,1,1,1,1,1,1,1,1,1,1,1,1,1,0,1,1,1,1,0,0,0,1,1,0,0,0,1,0,0,0,1,1,1,1,1,1,0],\"type\":\"scatter3d\"}],                        {\"scene\":{\"xaxis\":{\"title\":{\"text\":\"Sodium_Content\"}},\"yaxis\":{\"title\":{\"text\":\"Calories\"}},\"zaxis\":{\"title\":{\"text\":\"Glycemic_Index\"}}},\"template\":{\"data\":{\"barpolar\":[{\"marker\":{\"line\":{\"color\":\"#E5ECF6\",\"width\":0.5},\"pattern\":{\"fillmode\":\"overlay\",\"size\":10,\"solidity\":0.2}},\"type\":\"barpolar\"}],\"bar\":[{\"error_x\":{\"color\":\"#2a3f5f\"},\"error_y\":{\"color\":\"#2a3f5f\"},\"marker\":{\"line\":{\"color\":\"#E5ECF6\",\"width\":0.5},\"pattern\":{\"fillmode\":\"overlay\",\"size\":10,\"solidity\":0.2}},\"type\":\"bar\"}],\"carpet\":[{\"aaxis\":{\"endlinecolor\":\"#2a3f5f\",\"gridcolor\":\"white\",\"linecolor\":\"white\",\"minorgridcolor\":\"white\",\"startlinecolor\":\"#2a3f5f\"},\"baxis\":{\"endlinecolor\":\"#2a3f5f\",\"gridcolor\":\"white\",\"linecolor\":\"white\",\"minorgridcolor\":\"white\",\"startlinecolor\":\"#2a3f5f\"},\"type\":\"carpet\"}],\"choropleth\":[{\"colorbar\":{\"outlinewidth\":0,\"ticks\":\"\"},\"type\":\"choropleth\"}],\"contourcarpet\":[{\"colorbar\":{\"outlinewidth\":0,\"ticks\":\"\"},\"type\":\"contourcarpet\"}],\"contour\":[{\"colorbar\":{\"outlinewidth\":0,\"ticks\":\"\"},\"colorscale\":[[0.0,\"#0d0887\"],[0.1111111111111111,\"#46039f\"],[0.2222222222222222,\"#7201a8\"],[0.3333333333333333,\"#9c179e\"],[0.4444444444444444,\"#bd3786\"],[0.5555555555555556,\"#d8576b\"],[0.6666666666666666,\"#ed7953\"],[0.7777777777777778,\"#fb9f3a\"],[0.8888888888888888,\"#fdca26\"],[1.0,\"#f0f921\"]],\"type\":\"contour\"}],\"heatmapgl\":[{\"colorbar\":{\"outlinewidth\":0,\"ticks\":\"\"},\"colorscale\":[[0.0,\"#0d0887\"],[0.1111111111111111,\"#46039f\"],[0.2222222222222222,\"#7201a8\"],[0.3333333333333333,\"#9c179e\"],[0.4444444444444444,\"#bd3786\"],[0.5555555555555556,\"#d8576b\"],[0.6666666666666666,\"#ed7953\"],[0.7777777777777778,\"#fb9f3a\"],[0.8888888888888888,\"#fdca26\"],[1.0,\"#f0f921\"]],\"type\":\"heatmapgl\"}],\"heatmap\":[{\"colorbar\":{\"outlinewidth\":0,\"ticks\":\"\"},\"colorscale\":[[0.0,\"#0d0887\"],[0.1111111111111111,\"#46039f\"],[0.2222222222222222,\"#7201a8\"],[0.3333333333333333,\"#9c179e\"],[0.4444444444444444,\"#bd3786\"],[0.5555555555555556,\"#d8576b\"],[0.6666666666666666,\"#ed7953\"],[0.7777777777777778,\"#fb9f3a\"],[0.8888888888888888,\"#fdca26\"],[1.0,\"#f0f921\"]],\"type\":\"heatmap\"}],\"histogram2dcontour\":[{\"colorbar\":{\"outlinewidth\":0,\"ticks\":\"\"},\"colorscale\":[[0.0,\"#0d0887\"],[0.1111111111111111,\"#46039f\"],[0.2222222222222222,\"#7201a8\"],[0.3333333333333333,\"#9c179e\"],[0.4444444444444444,\"#bd3786\"],[0.5555555555555556,\"#d8576b\"],[0.6666666666666666,\"#ed7953\"],[0.7777777777777778,\"#fb9f3a\"],[0.8888888888888888,\"#fdca26\"],[1.0,\"#f0f921\"]],\"type\":\"histogram2dcontour\"}],\"histogram2d\":[{\"colorbar\":{\"outlinewidth\":0,\"ticks\":\"\"},\"colorscale\":[[0.0,\"#0d0887\"],[0.1111111111111111,\"#46039f\"],[0.2222222222222222,\"#7201a8\"],[0.3333333333333333,\"#9c179e\"],[0.4444444444444444,\"#bd3786\"],[0.5555555555555556,\"#d8576b\"],[0.6666666666666666,\"#ed7953\"],[0.7777777777777778,\"#fb9f3a\"],[0.8888888888888888,\"#fdca26\"],[1.0,\"#f0f921\"]],\"type\":\"histogram2d\"}],\"histogram\":[{\"marker\":{\"pattern\":{\"fillmode\":\"overlay\",\"size\":10,\"solidity\":0.2}},\"type\":\"histogram\"}],\"mesh3d\":[{\"colorbar\":{\"outlinewidth\":0,\"ticks\":\"\"},\"type\":\"mesh3d\"}],\"parcoords\":[{\"line\":{\"colorbar\":{\"outlinewidth\":0,\"ticks\":\"\"}},\"type\":\"parcoords\"}],\"pie\":[{\"automargin\":true,\"type\":\"pie\"}],\"scatter3d\":[{\"line\":{\"colorbar\":{\"outlinewidth\":0,\"ticks\":\"\"}},\"marker\":{\"colorbar\":{\"outlinewidth\":0,\"ticks\":\"\"}},\"type\":\"scatter3d\"}],\"scattercarpet\":[{\"marker\":{\"colorbar\":{\"outlinewidth\":0,\"ticks\":\"\"}},\"type\":\"scattercarpet\"}],\"scattergeo\":[{\"marker\":{\"colorbar\":{\"outlinewidth\":0,\"ticks\":\"\"}},\"type\":\"scattergeo\"}],\"scattergl\":[{\"marker\":{\"colorbar\":{\"outlinewidth\":0,\"ticks\":\"\"}},\"type\":\"scattergl\"}],\"scattermapbox\":[{\"marker\":{\"colorbar\":{\"outlinewidth\":0,\"ticks\":\"\"}},\"type\":\"scattermapbox\"}],\"scatterpolargl\":[{\"marker\":{\"colorbar\":{\"outlinewidth\":0,\"ticks\":\"\"}},\"type\":\"scatterpolargl\"}],\"scatterpolar\":[{\"marker\":{\"colorbar\":{\"outlinewidth\":0,\"ticks\":\"\"}},\"type\":\"scatterpolar\"}],\"scatter\":[{\"fillpattern\":{\"fillmode\":\"overlay\",\"size\":10,\"solidity\":0.2},\"type\":\"scatter\"}],\"scatterternary\":[{\"marker\":{\"colorbar\":{\"outlinewidth\":0,\"ticks\":\"\"}},\"type\":\"scatterternary\"}],\"surface\":[{\"colorbar\":{\"outlinewidth\":0,\"ticks\":\"\"},\"colorscale\":[[0.0,\"#0d0887\"],[0.1111111111111111,\"#46039f\"],[0.2222222222222222,\"#7201a8\"],[0.3333333333333333,\"#9c179e\"],[0.4444444444444444,\"#bd3786\"],[0.5555555555555556,\"#d8576b\"],[0.6666666666666666,\"#ed7953\"],[0.7777777777777778,\"#fb9f3a\"],[0.8888888888888888,\"#fdca26\"],[1.0,\"#f0f921\"]],\"type\":\"surface\"}],\"table\":[{\"cells\":{\"fill\":{\"color\":\"#EBF0F8\"},\"line\":{\"color\":\"white\"}},\"header\":{\"fill\":{\"color\":\"#C8D4E3\"},\"line\":{\"color\":\"white\"}},\"type\":\"table\"}]},\"layout\":{\"annotationdefaults\":{\"arrowcolor\":\"#2a3f5f\",\"arrowhead\":0,\"arrowwidth\":1},\"autotypenumbers\":\"strict\",\"coloraxis\":{\"colorbar\":{\"outlinewidth\":0,\"ticks\":\"\"}},\"colorscale\":{\"diverging\":[[0,\"#8e0152\"],[0.1,\"#c51b7d\"],[0.2,\"#de77ae\"],[0.3,\"#f1b6da\"],[0.4,\"#fde0ef\"],[0.5,\"#f7f7f7\"],[0.6,\"#e6f5d0\"],[0.7,\"#b8e186\"],[0.8,\"#7fbc41\"],[0.9,\"#4d9221\"],[1,\"#276419\"]],\"sequential\":[[0.0,\"#0d0887\"],[0.1111111111111111,\"#46039f\"],[0.2222222222222222,\"#7201a8\"],[0.3333333333333333,\"#9c179e\"],[0.4444444444444444,\"#bd3786\"],[0.5555555555555556,\"#d8576b\"],[0.6666666666666666,\"#ed7953\"],[0.7777777777777778,\"#fb9f3a\"],[0.8888888888888888,\"#fdca26\"],[1.0,\"#f0f921\"]],\"sequentialminus\":[[0.0,\"#0d0887\"],[0.1111111111111111,\"#46039f\"],[0.2222222222222222,\"#7201a8\"],[0.3333333333333333,\"#9c179e\"],[0.4444444444444444,\"#bd3786\"],[0.5555555555555556,\"#d8576b\"],[0.6666666666666666,\"#ed7953\"],[0.7777777777777778,\"#fb9f3a\"],[0.8888888888888888,\"#fdca26\"],[1.0,\"#f0f921\"]]},\"colorway\":[\"#636efa\",\"#EF553B\",\"#00cc96\",\"#ab63fa\",\"#FFA15A\",\"#19d3f3\",\"#FF6692\",\"#B6E880\",\"#FF97FF\",\"#FECB52\"],\"font\":{\"color\":\"#2a3f5f\"},\"geo\":{\"bgcolor\":\"white\",\"lakecolor\":\"white\",\"landcolor\":\"#E5ECF6\",\"showlakes\":true,\"showland\":true,\"subunitcolor\":\"white\"},\"hoverlabel\":{\"align\":\"left\"},\"hovermode\":\"closest\",\"mapbox\":{\"style\":\"light\"},\"paper_bgcolor\":\"white\",\"plot_bgcolor\":\"#E5ECF6\",\"polar\":{\"angularaxis\":{\"gridcolor\":\"white\",\"linecolor\":\"white\",\"ticks\":\"\"},\"bgcolor\":\"#E5ECF6\",\"radialaxis\":{\"gridcolor\":\"white\",\"linecolor\":\"white\",\"ticks\":\"\"}},\"scene\":{\"xaxis\":{\"backgroundcolor\":\"#E5ECF6\",\"gridcolor\":\"white\",\"gridwidth\":2,\"linecolor\":\"white\",\"showbackground\":true,\"ticks\":\"\",\"zerolinecolor\":\"white\"},\"yaxis\":{\"backgroundcolor\":\"#E5ECF6\",\"gridcolor\":\"white\",\"gridwidth\":2,\"linecolor\":\"white\",\"showbackground\":true,\"ticks\":\"\",\"zerolinecolor\":\"white\"},\"zaxis\":{\"backgroundcolor\":\"#E5ECF6\",\"gridcolor\":\"white\",\"gridwidth\":2,\"linecolor\":\"white\",\"showbackground\":true,\"ticks\":\"\",\"zerolinecolor\":\"white\"}},\"shapedefaults\":{\"line\":{\"color\":\"#2a3f5f\"}},\"ternary\":{\"aaxis\":{\"gridcolor\":\"white\",\"linecolor\":\"white\",\"ticks\":\"\"},\"baxis\":{\"gridcolor\":\"white\",\"linecolor\":\"white\",\"ticks\":\"\"},\"bgcolor\":\"#E5ECF6\",\"caxis\":{\"gridcolor\":\"white\",\"linecolor\":\"white\",\"ticks\":\"\"}},\"title\":{\"x\":0.05},\"xaxis\":{\"automargin\":true,\"gridcolor\":\"white\",\"linecolor\":\"white\",\"ticks\":\"\",\"title\":{\"standoff\":15},\"zerolinecolor\":\"white\",\"zerolinewidth\":2},\"yaxis\":{\"automargin\":true,\"gridcolor\":\"white\",\"linecolor\":\"white\",\"ticks\":\"\",\"title\":{\"standoff\":15},\"zerolinecolor\":\"white\",\"zerolinewidth\":2}}},\"title\":{\"text\":\"Clusters\"}},                        {\"responsive\": true}                    ).then(function(){\n",
       "                            \n",
       "var gd = document.getElementById('fce1f062-8a16-4cb0-8e26-a252ba2d8587');\n",
       "var x = new MutationObserver(function (mutations, observer) {{\n",
       "        var display = window.getComputedStyle(gd).display;\n",
       "        if (!display || display === 'none') {{\n",
       "            console.log([gd, 'removed!']);\n",
       "            Plotly.purge(gd);\n",
       "            observer.disconnect();\n",
       "        }}\n",
       "}});\n",
       "\n",
       "// Listen for the removal of the full notebook cells\n",
       "var notebookContainer = gd.closest('#notebook-container');\n",
       "if (notebookContainer) {{\n",
       "    x.observe(notebookContainer, {childList: true});\n",
       "}}\n",
       "\n",
       "// Listen for the clearing of the current output cell\n",
       "var outputEl = gd.closest('.output');\n",
       "if (outputEl) {{\n",
       "    x.observe(outputEl, {childList: true});\n",
       "}}\n",
       "\n",
       "                        })                };                });            </script>        </div>"
      ]
     },
     "metadata": {},
     "output_type": "display_data"
    },
    {
     "data": {
      "text/plain": [
       "<function matplotlib.pyplot.show(close=None, block=None)>"
      ]
     },
     "execution_count": 51,
     "metadata": {},
     "output_type": "execute_result"
    }
   ],
   "source": [
    "df['labels'] = labels\n",
    "\n",
    "trace = go.Scatter3d(\n",
    "                    x=df['Sodium_Content'],\n",
    "                    y=df['Calories'],\n",
    "                    z=df['Glycemic_Index'],\n",
    "                    mode = 'markers',\n",
    "                    marker = dict(color=df['labels'], size=3, line=dict(color=df['labels'], width=12), opacity=0.8)\n",
    "                    )\n",
    "data = [trace]\n",
    "layout = go.Layout(\n",
    "                   title = 'Clusters',\n",
    "                   scene = dict(\n",
    "                                xaxis = dict(title = 'Sodium_Content'),\n",
    "                                yaxis = dict(title = 'Calories'),\n",
    "                                zaxis = dict(title = 'Glycemic_Index'))\n",
    "                    )\n",
    "fig = go.Figure(data=data, layout=layout)\n",
    "py.offline.iplot(fig)\n",
    "plt.show"
   ]
  },
  {
   "cell_type": "code",
   "execution_count": 52,
   "id": "c5b27a9b-78ea-439c-a935-bf3730b7b85d",
   "metadata": {},
   "outputs": [],
   "source": [
    "import pickle\n",
    "pickle.dump(Model, open('savedModels/kmeans.plk', 'wb'))"
   ]
  },
  {
   "cell_type": "code",
   "execution_count": null,
   "id": "954a48c9-e194-4eb0-abe0-c467f41d1c35",
   "metadata": {},
   "outputs": [],
   "source": []
  },
  {
   "cell_type": "code",
   "execution_count": null,
   "id": "b97f100f-1a4b-4505-9147-54ef3acbe019",
   "metadata": {},
   "outputs": [],
   "source": []
  }
 ],
 "metadata": {
  "kernelspec": {
   "display_name": "Python 3 (ipykernel)",
   "language": "python",
   "name": "python3"
  },
  "language_info": {
   "codemirror_mode": {
    "name": "ipython",
    "version": 3
   },
   "file_extension": ".py",
   "mimetype": "text/x-python",
   "name": "python",
   "nbconvert_exporter": "python",
   "pygments_lexer": "ipython3",
   "version": "3.12.4"
  }
 },
 "nbformat": 4,
 "nbformat_minor": 5
}
